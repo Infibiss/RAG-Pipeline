{
 "cells": [
  {
   "metadata": {},
   "cell_type": "markdown",
   "source": "Муртазалиев Матвей, 466797, J3110\n",
   "id": "cef72997044497f5"
  },
  {
   "metadata": {},
   "cell_type": "markdown",
   "source": "## 0. Загрузка данных",
   "id": "bfbba5684b8da13d"
  },
  {
   "cell_type": "code",
   "id": "initial_id",
   "metadata": {
    "collapsed": true,
    "ExecuteTime": {
     "end_time": "2025-05-02T20:37:30.063713Z",
     "start_time": "2025-05-02T20:37:26.884927Z"
    }
   },
   "source": [
    "import os, gc, random, warnings\n",
    "from pathlib import Path\n",
    "import numpy as np, pandas as pd\n",
    "from tqdm.notebook import tqdm\n",
    "from sentence_transformers import SentenceTransformer\n",
    "import chromadb\n",
    "from chromadb.config import Settings\n",
    "\n",
    "warnings.filterwarnings('ignore')"
   ],
   "outputs": [
    {
     "name": "stderr",
     "output_type": "stream",
     "text": [
      "/Library/Frameworks/Python.framework/Versions/3.11/lib/python3.11/site-packages/sentence_transformers/cross_encoder/CrossEncoder.py:13: TqdmExperimentalWarning: Using `tqdm.autonotebook.tqdm` in notebook mode. Use `tqdm.tqdm` instead to force console mode (e.g. in jupyter console)\n",
      "  from tqdm.autonotebook import tqdm, trange\n"
     ]
    }
   ],
   "execution_count": 2
  },
  {
   "metadata": {
    "ExecuteTime": {
     "end_time": "2025-05-02T20:38:25.872348Z",
     "start_time": "2025-05-02T20:37:30.069596Z"
    }
   },
   "cell_type": "code",
   "source": [
    "# Чтение файлов\n",
    "DATA_DIR = '../data'\n",
    "questions = pd.read_csv(os.path.join(DATA_DIR, 'Questions_cleared.csv'), encoding='latin1', parse_dates=['CreationDate', 'ClosedDate'])\n",
    "answers = pd.read_csv(os.path.join(DATA_DIR, 'Answers_cleared.csv'), encoding='latin1', parse_dates=['CreationDate'])\n",
    "tags = pd.read_csv(os.path.join(DATA_DIR, 'Tags.csv'), encoding='latin1')\n",
    "\n",
    "print('Questions:', questions.shape)\n",
    "print('Answers  :', answers.shape)\n",
    "print('Tags     :', tags.shape)\n"
   ],
   "id": "6bbb869cc9f7bb24",
   "outputs": [
    {
     "name": "stdout",
     "output_type": "stream",
     "text": [
      "Questions: (1264216, 13)\n",
      "Answers  : (2014516, 7)\n",
      "Tags     : (3750994, 2)\n"
     ]
    }
   ],
   "execution_count": 3
  },
  {
   "metadata": {
    "ExecuteTime": {
     "end_time": "2025-05-02T20:38:25.970899Z",
     "start_time": "2025-05-02T20:38:25.962960Z"
    }
   },
   "cell_type": "code",
   "source": "questions.head()",
   "id": "8b748db1ff646c35",
   "outputs": [
    {
     "data": {
      "text/plain": [
       "    Id  OwnerUserId              CreationDate                ClosedDate  \\\n",
       "0   80         26.0 2008-08-01 13:57:07+00:00                       NaT   \n",
       "1   90         58.0 2008-08-01 14:41:24+00:00 2012-12-26 03:45:49+00:00   \n",
       "2  120         83.0 2008-08-01 15:50:08+00:00                       NaT   \n",
       "3  180    2089740.0 2008-08-01 18:42:19+00:00                       NaT   \n",
       "4  260         91.0 2008-08-01 23:22:08+00:00                       NaT   \n",
       "\n",
       "   Score                                              Title  \\\n",
       "0     26  SQLStatement.execute() - multiple queries in o...   \n",
       "1    144  Good branching and merging tutorials for Torto...   \n",
       "2     21                                  ASP.NET Site Maps   \n",
       "3     53                 Function for creating color wheels   \n",
       "4     49  Adding scripting functionality to .NET applica...   \n",
       "\n",
       "                                                Body  AnswerCount  \\\n",
       "0  <p>I've written a database generation script i...            3   \n",
       "1  <p>Are there any really good tutorials explain...            3   \n",
       "2  <p>Has anyone got experience creating <strong>...            1   \n",
       "3  <p>This is something I've pseudo-solved many t...            9   \n",
       "4  <p>I have a little game written in C#. It uses...            9   \n",
       "\n",
       "                                             TagList  \\\n",
       "0                  ['flex', 'actionscript-3', 'air']   \n",
       "1  ['svn', 'tortoisesvn', 'branch', 'branching-an...   \n",
       "2                      ['sql', 'asp.net', 'sitemap']   \n",
       "3  ['algorithm', 'language-agnostic', 'colors', '...   \n",
       "4  ['c#', '.net', 'scripting', 'compiler-construc...   \n",
       "\n",
       "                                           CleanBody  \\\n",
       "0  write database generation script sql want exec...   \n",
       "1  really good tutorial explain branching merge a...   \n",
       "2  anyone get experience create sql base asp net ...   \n",
       "3  something pseudo solve many time never quite f...   \n",
       "4  little game write us database back end trading...   \n",
       "\n",
       "                                          CleanTitle  \\\n",
       "0  sqlstatement execute multiple query one statement   \n",
       "1          good branching merge tutorial tortoisesvn   \n",
       "2                                   asp net site map   \n",
       "3                        function create color wheel   \n",
       "4           add script functionality net application   \n",
       "\n",
       "                                      AcceptedAnswer  \\\n",
       "0  wound use kind hack actually work pretty well ...   \n",
       "1  easy click click instruction specific tortoise...   \n",
       "2  jeff prosise version msdn magazine work pretty...   \n",
       "3  first thought generate vector space maximize d...   \n",
       "4  oleg shilo script solution code project really...   \n",
       "\n",
       "                                                 doc  \n",
       "0  write database generation script sql want exec...  \n",
       "1  really good tutorial explain branching merge a...  \n",
       "2  anyone get experience create sql base asp net ...  \n",
       "3  something pseudo solve many time never quite f...  \n",
       "4  little game write us database back end trading...  "
      ],
      "text/html": [
       "<div>\n",
       "<style scoped>\n",
       "    .dataframe tbody tr th:only-of-type {\n",
       "        vertical-align: middle;\n",
       "    }\n",
       "\n",
       "    .dataframe tbody tr th {\n",
       "        vertical-align: top;\n",
       "    }\n",
       "\n",
       "    .dataframe thead th {\n",
       "        text-align: right;\n",
       "    }\n",
       "</style>\n",
       "<table border=\"1\" class=\"dataframe\">\n",
       "  <thead>\n",
       "    <tr style=\"text-align: right;\">\n",
       "      <th></th>\n",
       "      <th>Id</th>\n",
       "      <th>OwnerUserId</th>\n",
       "      <th>CreationDate</th>\n",
       "      <th>ClosedDate</th>\n",
       "      <th>Score</th>\n",
       "      <th>Title</th>\n",
       "      <th>Body</th>\n",
       "      <th>AnswerCount</th>\n",
       "      <th>TagList</th>\n",
       "      <th>CleanBody</th>\n",
       "      <th>CleanTitle</th>\n",
       "      <th>AcceptedAnswer</th>\n",
       "      <th>doc</th>\n",
       "    </tr>\n",
       "  </thead>\n",
       "  <tbody>\n",
       "    <tr>\n",
       "      <th>0</th>\n",
       "      <td>80</td>\n",
       "      <td>26.0</td>\n",
       "      <td>2008-08-01 13:57:07+00:00</td>\n",
       "      <td>NaT</td>\n",
       "      <td>26</td>\n",
       "      <td>SQLStatement.execute() - multiple queries in o...</td>\n",
       "      <td>&lt;p&gt;I've written a database generation script i...</td>\n",
       "      <td>3</td>\n",
       "      <td>['flex', 'actionscript-3', 'air']</td>\n",
       "      <td>write database generation script sql want exec...</td>\n",
       "      <td>sqlstatement execute multiple query one statement</td>\n",
       "      <td>wound use kind hack actually work pretty well ...</td>\n",
       "      <td>write database generation script sql want exec...</td>\n",
       "    </tr>\n",
       "    <tr>\n",
       "      <th>1</th>\n",
       "      <td>90</td>\n",
       "      <td>58.0</td>\n",
       "      <td>2008-08-01 14:41:24+00:00</td>\n",
       "      <td>2012-12-26 03:45:49+00:00</td>\n",
       "      <td>144</td>\n",
       "      <td>Good branching and merging tutorials for Torto...</td>\n",
       "      <td>&lt;p&gt;Are there any really good tutorials explain...</td>\n",
       "      <td>3</td>\n",
       "      <td>['svn', 'tortoisesvn', 'branch', 'branching-an...</td>\n",
       "      <td>really good tutorial explain branching merge a...</td>\n",
       "      <td>good branching merge tutorial tortoisesvn</td>\n",
       "      <td>easy click click instruction specific tortoise...</td>\n",
       "      <td>really good tutorial explain branching merge a...</td>\n",
       "    </tr>\n",
       "    <tr>\n",
       "      <th>2</th>\n",
       "      <td>120</td>\n",
       "      <td>83.0</td>\n",
       "      <td>2008-08-01 15:50:08+00:00</td>\n",
       "      <td>NaT</td>\n",
       "      <td>21</td>\n",
       "      <td>ASP.NET Site Maps</td>\n",
       "      <td>&lt;p&gt;Has anyone got experience creating &lt;strong&gt;...</td>\n",
       "      <td>1</td>\n",
       "      <td>['sql', 'asp.net', 'sitemap']</td>\n",
       "      <td>anyone get experience create sql base asp net ...</td>\n",
       "      <td>asp net site map</td>\n",
       "      <td>jeff prosise version msdn magazine work pretty...</td>\n",
       "      <td>anyone get experience create sql base asp net ...</td>\n",
       "    </tr>\n",
       "    <tr>\n",
       "      <th>3</th>\n",
       "      <td>180</td>\n",
       "      <td>2089740.0</td>\n",
       "      <td>2008-08-01 18:42:19+00:00</td>\n",
       "      <td>NaT</td>\n",
       "      <td>53</td>\n",
       "      <td>Function for creating color wheels</td>\n",
       "      <td>&lt;p&gt;This is something I've pseudo-solved many t...</td>\n",
       "      <td>9</td>\n",
       "      <td>['algorithm', 'language-agnostic', 'colors', '...</td>\n",
       "      <td>something pseudo solve many time never quite f...</td>\n",
       "      <td>function create color wheel</td>\n",
       "      <td>first thought generate vector space maximize d...</td>\n",
       "      <td>something pseudo solve many time never quite f...</td>\n",
       "    </tr>\n",
       "    <tr>\n",
       "      <th>4</th>\n",
       "      <td>260</td>\n",
       "      <td>91.0</td>\n",
       "      <td>2008-08-01 23:22:08+00:00</td>\n",
       "      <td>NaT</td>\n",
       "      <td>49</td>\n",
       "      <td>Adding scripting functionality to .NET applica...</td>\n",
       "      <td>&lt;p&gt;I have a little game written in C#. It uses...</td>\n",
       "      <td>9</td>\n",
       "      <td>['c#', '.net', 'scripting', 'compiler-construc...</td>\n",
       "      <td>little game write us database back end trading...</td>\n",
       "      <td>add script functionality net application</td>\n",
       "      <td>oleg shilo script solution code project really...</td>\n",
       "      <td>little game write us database back end trading...</td>\n",
       "    </tr>\n",
       "  </tbody>\n",
       "</table>\n",
       "</div>"
      ]
     },
     "execution_count": 4,
     "metadata": {},
     "output_type": "execute_result"
    }
   ],
   "execution_count": 4
  },
  {
   "metadata": {
    "ExecuteTime": {
     "end_time": "2025-05-02T22:51:29.330071Z",
     "start_time": "2025-05-02T22:51:29.324972Z"
    }
   },
   "cell_type": "code",
   "source": "answers.head()",
   "id": "ef5d5bfda682bbbe",
   "outputs": [
    {
     "data": {
      "text/plain": [
       "    Id  OwnerUserId              CreationDate  ParentId  Score  \\\n",
       "0   92         61.0 2008-08-01 14:45:37+00:00        90     13   \n",
       "1  124         26.0 2008-08-01 16:09:47+00:00        80     12   \n",
       "2  199         50.0 2008-08-01 19:36:46+00:00       180      1   \n",
       "3  269         91.0 2008-08-01 23:49:57+00:00       260      4   \n",
       "4  307         49.0 2008-08-02 01:49:46+00:00       260     28   \n",
       "\n",
       "                                                Body  \\\n",
       "0  <p><a href=\"http://svnbook.red-bean.com/\">Vers...   \n",
       "1  <p>I wound up using this. It is a kind of a ha...   \n",
       "2  <p>I've read somewhere the human eye can't dis...   \n",
       "3  <p>Yes, I thought about that, but I soon figur...   \n",
       "4  <p><a href=\"http://www.codeproject.com/Article...   \n",
       "\n",
       "                                           CleanBody  \n",
       "0  version control subversion good resource sourc...  \n",
       "1  wound use kind hack actually work pretty well ...  \n",
       "2  read somewhere human eye distinguish less valu...  \n",
       "3  yes thought soon figure another domain specifi...  \n",
       "4  oleg shilo script solution code project really...  "
      ],
      "text/html": [
       "<div>\n",
       "<style scoped>\n",
       "    .dataframe tbody tr th:only-of-type {\n",
       "        vertical-align: middle;\n",
       "    }\n",
       "\n",
       "    .dataframe tbody tr th {\n",
       "        vertical-align: top;\n",
       "    }\n",
       "\n",
       "    .dataframe thead th {\n",
       "        text-align: right;\n",
       "    }\n",
       "</style>\n",
       "<table border=\"1\" class=\"dataframe\">\n",
       "  <thead>\n",
       "    <tr style=\"text-align: right;\">\n",
       "      <th></th>\n",
       "      <th>Id</th>\n",
       "      <th>OwnerUserId</th>\n",
       "      <th>CreationDate</th>\n",
       "      <th>ParentId</th>\n",
       "      <th>Score</th>\n",
       "      <th>Body</th>\n",
       "      <th>CleanBody</th>\n",
       "    </tr>\n",
       "  </thead>\n",
       "  <tbody>\n",
       "    <tr>\n",
       "      <th>0</th>\n",
       "      <td>92</td>\n",
       "      <td>61.0</td>\n",
       "      <td>2008-08-01 14:45:37+00:00</td>\n",
       "      <td>90</td>\n",
       "      <td>13</td>\n",
       "      <td>&lt;p&gt;&lt;a href=\"http://svnbook.red-bean.com/\"&gt;Vers...</td>\n",
       "      <td>version control subversion good resource sourc...</td>\n",
       "    </tr>\n",
       "    <tr>\n",
       "      <th>1</th>\n",
       "      <td>124</td>\n",
       "      <td>26.0</td>\n",
       "      <td>2008-08-01 16:09:47+00:00</td>\n",
       "      <td>80</td>\n",
       "      <td>12</td>\n",
       "      <td>&lt;p&gt;I wound up using this. It is a kind of a ha...</td>\n",
       "      <td>wound use kind hack actually work pretty well ...</td>\n",
       "    </tr>\n",
       "    <tr>\n",
       "      <th>2</th>\n",
       "      <td>199</td>\n",
       "      <td>50.0</td>\n",
       "      <td>2008-08-01 19:36:46+00:00</td>\n",
       "      <td>180</td>\n",
       "      <td>1</td>\n",
       "      <td>&lt;p&gt;I've read somewhere the human eye can't dis...</td>\n",
       "      <td>read somewhere human eye distinguish less valu...</td>\n",
       "    </tr>\n",
       "    <tr>\n",
       "      <th>3</th>\n",
       "      <td>269</td>\n",
       "      <td>91.0</td>\n",
       "      <td>2008-08-01 23:49:57+00:00</td>\n",
       "      <td>260</td>\n",
       "      <td>4</td>\n",
       "      <td>&lt;p&gt;Yes, I thought about that, but I soon figur...</td>\n",
       "      <td>yes thought soon figure another domain specifi...</td>\n",
       "    </tr>\n",
       "    <tr>\n",
       "      <th>4</th>\n",
       "      <td>307</td>\n",
       "      <td>49.0</td>\n",
       "      <td>2008-08-02 01:49:46+00:00</td>\n",
       "      <td>260</td>\n",
       "      <td>28</td>\n",
       "      <td>&lt;p&gt;&lt;a href=\"http://www.codeproject.com/Article...</td>\n",
       "      <td>oleg shilo script solution code project really...</td>\n",
       "    </tr>\n",
       "  </tbody>\n",
       "</table>\n",
       "</div>"
      ]
     },
     "execution_count": 13,
     "metadata": {},
     "output_type": "execute_result"
    }
   ],
   "execution_count": 13
  },
  {
   "metadata": {},
   "cell_type": "markdown",
   "source": "## 1. Генерация эммбеддингов\n",
   "id": "8b1b0d12be50a22d"
  },
  {
   "metadata": {},
   "cell_type": "markdown",
   "source": "### Формируем текст (вопрос + лучший ответ)",
   "id": "eab8e2fe147884df"
  },
  {
   "metadata": {
    "ExecuteTime": {
     "end_time": "2025-05-02T20:38:26.294663Z",
     "start_time": "2025-05-02T20:38:26.079395Z"
    }
   },
   "cell_type": "code",
   "source": "questions['AcceptedAnswer'].fillna('', inplace=True)",
   "id": "b7959008273390d8",
   "outputs": [],
   "execution_count": 6
  },
  {
   "metadata": {
    "ExecuteTime": {
     "end_time": "2025-05-02T20:38:28.102486Z",
     "start_time": "2025-05-02T20:38:26.308777Z"
    }
   },
   "cell_type": "code",
   "source": [
    "tqdm.pandas(desc='concat')\n",
    "questions['doc'] = (\n",
    "        questions['CleanBody'] + ' ' + questions['AcceptedAnswer']\n",
    ")\n",
    "documents = questions['doc'].tolist()"
   ],
   "id": "afd732c4b19d95e",
   "outputs": [],
   "execution_count": 7
  },
  {
   "metadata": {},
   "cell_type": "markdown",
   "source": "### Создаем эмбеддинги",
   "id": "1736ae66a661cf9a"
  },
  {
   "metadata": {
    "ExecuteTime": {
     "end_time": "2025-05-02T21:08:38.999311Z",
     "start_time": "2025-05-02T20:38:28.184278Z"
    }
   },
   "cell_type": "code",
   "source": [
    "MODEL = 'sentence-transformers/all-MiniLM-L6-v2'  # 384-dim\n",
    "model = SentenceTransformer(MODEL)\n",
    "BATCH = 1024\n",
    "embeddings = []\n",
    "for i in tqdm(range(0, len(documents), BATCH), desc='embed'):\n",
    "    batch_emb = model.encode(documents[i:i + BATCH], convert_to_numpy=True, normalize_embeddings=True)\n",
    "    embeddings.append(batch_emb)\n",
    "embeddings = np.vstack(embeddings)\n",
    "print('Embeddings shape:', embeddings.shape)"
   ],
   "id": "da3bff5322851a93",
   "outputs": [
    {
     "data": {
      "text/plain": [
       "embed:   0%|          | 0/1235 [00:00<?, ?it/s]"
      ],
      "application/vnd.jupyter.widget-view+json": {
       "version_major": 2,
       "version_minor": 0,
       "model_id": "5091229e02914cd8899bda4769403409"
      }
     },
     "metadata": {},
     "output_type": "display_data"
    },
    {
     "name": "stdout",
     "output_type": "stream",
     "text": [
      "Embeddings shape: (1264216, 384)\n"
     ]
    }
   ],
   "execution_count": 8
  },
  {
   "metadata": {},
   "cell_type": "markdown",
   "source": "## 2&3. Загрузка эмбеддингов в Chroma",
   "id": "cad8e0cf54fa5d5d"
  },
  {
   "metadata": {
    "ExecuteTime": {
     "end_time": "2025-05-02T22:51:23.773012Z",
     "start_time": "2025-05-02T21:08:39.094206Z"
    }
   },
   "cell_type": "code",
   "source": [
    "CHROMA_DIR = 'chroma_db'\n",
    "client = chromadb.PersistentClient(path=CHROMA_DIR, settings=Settings(anonymized_telemetry=False))  # Создаем клиент\n",
    "COLL = 'StackOverflowQnA'\n",
    "try:\n",
    "    col = client.get_collection(COLL)  # Получаем коллекцию\n",
    "except:\n",
    "    col = client.create_collection(COLL, metadata={'hnsw:space': 'cosine'})  # Создаем если не существует\n",
    "\n",
    "# Если коллекция пустая, загружаем эмбеддинги\n",
    "if col.count() == 0:\n",
    "    STEP = 1000\n",
    "    for i in tqdm(range(0, len(questions), STEP), desc='upload'):\n",
    "        ids = questions.index[i:i + STEP].astype(str).tolist()\n",
    "        documents = questions['Body'][i:i + STEP].tolist()\n",
    "        metas = [{\n",
    "            'title': questions.loc[int(id_)]['Title'][:200],\n",
    "            'answer': questions.loc[int(id_)]['AcceptedAnswer'][:500]\n",
    "        } for id_ in ids]\n",
    "        col.add(ids=ids, embeddings=embeddings[i:i + STEP].tolist(), documents=documents, metadatas=metas)\n",
    "print('Vectors in Chroma:', col.count())"
   ],
   "id": "6e9cbf7a45c388b9",
   "outputs": [
    {
     "data": {
      "text/plain": [
       "upload:   0%|          | 0/1265 [00:00<?, ?it/s]"
      ],
      "application/vnd.jupyter.widget-view+json": {
       "version_major": 2,
       "version_minor": 0,
       "model_id": "5dd41787c5e54e63a5e380fa872a4f78"
      }
     },
     "metadata": {},
     "output_type": "display_data"
    },
    {
     "name": "stdout",
     "output_type": "stream",
     "text": [
      "Vectors in Chroma: 1264216\n"
     ]
    }
   ],
   "execution_count": 9
  },
  {
   "metadata": {},
   "cell_type": "markdown",
   "source": "## 4. Семантический поиск",
   "id": "e131fb8ec222b70f"
  },
  {
   "metadata": {
    "ExecuteTime": {
     "end_time": "2025-05-02T22:51:23.876425Z",
     "start_time": "2025-05-02T22:51:23.868749Z"
    }
   },
   "cell_type": "code",
   "source": [
    "def semantic_search(query: str, k: int = 5):\n",
    "    q_emb = model.encode([query], normalize_embeddings=True)[0]\n",
    "    res = col.query(query_embeddings=[q_emb.tolist()], n_results=k, include=['distances', 'metadatas'])\n",
    "    hits = []\n",
    "    for dist, meta in zip(res['distances'][0], res['metadatas'][0]):\n",
    "        hits.append({'answer': meta.get('answer', ''), 'score': 1 - dist, 'title': meta.get('title', '')})\n",
    "    return hits"
   ],
   "id": "337c2edff99b185",
   "outputs": [],
   "execution_count": 10
  },
  {
   "metadata": {
    "ExecuteTime": {
     "end_time": "2025-05-02T22:51:29.058011Z",
     "start_time": "2025-05-02T22:51:23.911935Z"
    }
   },
   "cell_type": "code",
   "source": [
    "# Тестируем\n",
    "for h in semantic_search('How to convert a string to a list in Python?', k=1):\n",
    "    print(f\"Title:  {h['title']}\\nAnswer: {h['answer']}\\nScore:  {h['score']:.3f}\\n\")"
   ],
   "id": "9b65bb72d4c04fe6",
   "outputs": [
    {
     "name": "stdout",
     "output_type": "stream",
     "text": [
      "Title:  Assign part of a string to a variable [Python]\n",
      "Answer: easy python fun object actually string list safely convert list\n",
      "Score:  0.770\n",
      "\n"
     ]
    }
   ],
   "execution_count": 11
  },
  {
   "metadata": {
    "ExecuteTime": {
     "end_time": "2025-05-02T22:51:29.287541Z",
     "start_time": "2025-05-02T22:51:29.134203Z"
    }
   },
   "cell_type": "code",
   "source": [
    "for h in semantic_search('How to convert string to int in Python?', k=1):\n",
    "    print(f\"Title:  {h['title']}\\nAnswer: {h['answer']}\\nScore:  {h['score']:.3f}\\n\")"
   ],
   "id": "aa651274a64cc7f6",
   "outputs": [
    {
     "name": "stdout",
     "output_type": "stream",
     "text": [
      "Title:  Is there other ways to convert a string to int in python2 without int and string.atoi?\n",
      "Answer: would recommend use try catch also use module\n",
      "Score:  0.730\n",
      "\n"
     ]
    }
   ],
   "execution_count": 12
  },
  {
   "metadata": {},
   "cell_type": "markdown",
   "source": [
    "# 5&6. Хранение и сравнение и выводы\n",
    "\n",
    "Хранение данных в векторном виде в Chroma: \n",
    "- Эмбеддинги занимают $N \\times d \\times 4$ байт памяти, где $N$ — количество объектов, $d$ — размерность эмбеддингов, а 4 — размер одного числа в float. Для текущего проекта это примерно 2 GB\n",
    "- Поиск в Chroma: Chroma использует индексы ANN (Approximate Nearest Neighbors), такие как HNSW, для быстрого поиска ближайших соседей в векторном пространстве. Это позволяет эффективно находить похожие объекты даже в больших наборах данных\n",
    "- Для обновления данных необходимо удалить старые записи и добавить новые с теми же идентификаторами. Удаление записей выполняется через метод delete, а добавление — через метод add\n",
    "\n",
    "Сравнение классического и семантического поиска:\n",
    "- Классический поиск основывается на точном совпадении слов и не учитывает синонимы или контекст\n",
    "- Семантический поиск, используя эмбеддинги, лучше справляется с синонимами и контекстом, но требует больше ресурсов для хранения и вычислений\n"
   ],
   "id": "a7abba940dc5600a"
  },
  {
   "metadata": {
    "ExecuteTime": {
     "end_time": "2025-05-02T22:51:29.297146Z",
     "start_time": "2025-05-02T22:51:29.295922Z"
    }
   },
   "cell_type": "code",
   "source": "",
   "id": "d109b3a453925b88",
   "outputs": [],
   "execution_count": null
  }
 ],
 "metadata": {
  "kernelspec": {
   "display_name": "Python 3",
   "language": "python",
   "name": "python3"
  },
  "language_info": {
   "codemirror_mode": {
    "name": "ipython",
    "version": 2
   },
   "file_extension": ".py",
   "mimetype": "text/x-python",
   "name": "python",
   "nbconvert_exporter": "python",
   "pygments_lexer": "ipython2",
   "version": "2.7.6"
  }
 },
 "nbformat": 4,
 "nbformat_minor": 5
}
