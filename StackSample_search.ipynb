{
 "cells": [
  {
   "metadata": {},
   "cell_type": "markdown",
   "source": "Муртазалиев Матвей, 466797, J3110\n",
   "id": "45792363e520eb84"
  },
  {
   "metadata": {},
   "cell_type": "markdown",
   "source": "## 0. Загрузка очищенных данных",
   "id": "ad236c6a6fc3e851"
  },
  {
   "cell_type": "code",
   "id": "938117ab",
   "metadata": {
    "ExecuteTime": {
     "end_time": "2025-04-30T21:20:43.596356Z",
     "start_time": "2025-04-30T21:20:41.733397Z"
    }
   },
   "source": [
    "import os, gc, math, random, re, json, warnings\n",
    "import pandas as pd, numpy as np\n",
    "from tqdm.notebook import tqdm\n",
    "from sklearn.feature_extraction.text import TfidfVectorizer\n",
    "from sklearn.metrics.pairwise import cosine_similarity\n",
    "from rank_bm25 import BM25Okapi\n",
    "from nltk.corpus import stopwords, wordnet\n",
    "from nltk.stem import WordNetLemmatizer\n",
    "import nltk\n",
    "\n",
    "warnings.filterwarnings('ignore')\n",
    "\n",
    "# Скачиваем словари при первом запуске\n",
    "nltk.download('punkt', quiet=True)\n",
    "nltk.download('stopwords', quiet=True)\n",
    "nltk.download('wordnet', quiet=True)"
   ],
   "outputs": [
    {
     "data": {
      "text/plain": [
       "True"
      ]
     },
     "execution_count": 1,
     "metadata": {},
     "output_type": "execute_result"
    }
   ],
   "execution_count": 1
  },
  {
   "cell_type": "code",
   "id": "a700551a",
   "metadata": {
    "ExecuteTime": {
     "end_time": "2025-04-30T21:21:32.503771Z",
     "start_time": "2025-04-30T21:20:43.668424Z"
    }
   },
   "source": [
    "# Чтение файлов\n",
    "DATA_DIR = '../data'\n",
    "questions = pd.read_csv(os.path.join(DATA_DIR, 'Questions_cleared.csv'), encoding='latin1', parse_dates=['CreationDate', 'ClosedDate'])\n",
    "answers = pd.read_csv(os.path.join(DATA_DIR, 'Answers_cleared.csv'), encoding='latin1', parse_dates=['CreationDate'])\n",
    "tags = pd.read_csv(os.path.join(DATA_DIR, 'Tags.csv'), encoding='latin1')\n",
    "\n",
    "print('Questions:', questions.shape)\n",
    "print('Answers  :', answers.shape)\n",
    "print('Tags     :', tags.shape)\n"
   ],
   "outputs": [
    {
     "name": "stdout",
     "output_type": "stream",
     "text": [
      "Questions: (1264216, 11)\n",
      "Answers  : (2014516, 7)\n",
      "Tags     : (3750994, 2)\n"
     ]
    }
   ],
   "execution_count": 2
  },
  {
   "metadata": {
    "ExecuteTime": {
     "end_time": "2025-04-30T21:21:33.794372Z",
     "start_time": "2025-04-30T21:21:33.788693Z"
    }
   },
   "cell_type": "code",
   "source": "questions.head()",
   "id": "e98b6ddf492dc53",
   "outputs": [
    {
     "data": {
      "text/plain": [
       "    Id  OwnerUserId              CreationDate                ClosedDate  \\\n",
       "0   80         26.0 2008-08-01 13:57:07+00:00                       NaT   \n",
       "1   90         58.0 2008-08-01 14:41:24+00:00 2012-12-26 03:45:49+00:00   \n",
       "2  120         83.0 2008-08-01 15:50:08+00:00                       NaT   \n",
       "3  180    2089740.0 2008-08-01 18:42:19+00:00                       NaT   \n",
       "4  260         91.0 2008-08-01 23:22:08+00:00                       NaT   \n",
       "\n",
       "   Score                                              Title  \\\n",
       "0     26  SQLStatement.execute() - multiple queries in o...   \n",
       "1    144  Good branching and merging tutorials for Torto...   \n",
       "2     21                                  ASP.NET Site Maps   \n",
       "3     53                 Function for creating color wheels   \n",
       "4     49  Adding scripting functionality to .NET applica...   \n",
       "\n",
       "                                                Body  AnswerCount  \\\n",
       "0  <p>I've written a database generation script i...            3   \n",
       "1  <p>Are there any really good tutorials explain...            3   \n",
       "2  <p>Has anyone got experience creating <strong>...            1   \n",
       "3  <p>This is something I've pseudo-solved many t...            9   \n",
       "4  <p>I have a little game written in C#. It uses...            9   \n",
       "\n",
       "                                             TagList  \\\n",
       "0                  ['flex', 'actionscript-3', 'air']   \n",
       "1  ['svn', 'tortoisesvn', 'branch', 'branching-an...   \n",
       "2                      ['sql', 'asp.net', 'sitemap']   \n",
       "3  ['algorithm', 'language-agnostic', 'colors', '...   \n",
       "4  ['c#', '.net', 'scripting', 'compiler-construc...   \n",
       "\n",
       "                                           CleanBody  \\\n",
       "0  write database generation script sql want exec...   \n",
       "1  really good tutorial explain branching merge a...   \n",
       "2  anyone get experience create sql base asp net ...   \n",
       "3  something pseudo solve many time never quite f...   \n",
       "4  little game write us database back end trading...   \n",
       "\n",
       "                                          CleanTitle  \n",
       "0  sqlstatement execute multiple query one statement  \n",
       "1          good branching merge tutorial tortoisesvn  \n",
       "2                                   asp net site map  \n",
       "3                        function create color wheel  \n",
       "4           add script functionality net application  "
      ],
      "text/html": [
       "<div>\n",
       "<style scoped>\n",
       "    .dataframe tbody tr th:only-of-type {\n",
       "        vertical-align: middle;\n",
       "    }\n",
       "\n",
       "    .dataframe tbody tr th {\n",
       "        vertical-align: top;\n",
       "    }\n",
       "\n",
       "    .dataframe thead th {\n",
       "        text-align: right;\n",
       "    }\n",
       "</style>\n",
       "<table border=\"1\" class=\"dataframe\">\n",
       "  <thead>\n",
       "    <tr style=\"text-align: right;\">\n",
       "      <th></th>\n",
       "      <th>Id</th>\n",
       "      <th>OwnerUserId</th>\n",
       "      <th>CreationDate</th>\n",
       "      <th>ClosedDate</th>\n",
       "      <th>Score</th>\n",
       "      <th>Title</th>\n",
       "      <th>Body</th>\n",
       "      <th>AnswerCount</th>\n",
       "      <th>TagList</th>\n",
       "      <th>CleanBody</th>\n",
       "      <th>CleanTitle</th>\n",
       "    </tr>\n",
       "  </thead>\n",
       "  <tbody>\n",
       "    <tr>\n",
       "      <th>0</th>\n",
       "      <td>80</td>\n",
       "      <td>26.0</td>\n",
       "      <td>2008-08-01 13:57:07+00:00</td>\n",
       "      <td>NaT</td>\n",
       "      <td>26</td>\n",
       "      <td>SQLStatement.execute() - multiple queries in o...</td>\n",
       "      <td>&lt;p&gt;I've written a database generation script i...</td>\n",
       "      <td>3</td>\n",
       "      <td>['flex', 'actionscript-3', 'air']</td>\n",
       "      <td>write database generation script sql want exec...</td>\n",
       "      <td>sqlstatement execute multiple query one statement</td>\n",
       "    </tr>\n",
       "    <tr>\n",
       "      <th>1</th>\n",
       "      <td>90</td>\n",
       "      <td>58.0</td>\n",
       "      <td>2008-08-01 14:41:24+00:00</td>\n",
       "      <td>2012-12-26 03:45:49+00:00</td>\n",
       "      <td>144</td>\n",
       "      <td>Good branching and merging tutorials for Torto...</td>\n",
       "      <td>&lt;p&gt;Are there any really good tutorials explain...</td>\n",
       "      <td>3</td>\n",
       "      <td>['svn', 'tortoisesvn', 'branch', 'branching-an...</td>\n",
       "      <td>really good tutorial explain branching merge a...</td>\n",
       "      <td>good branching merge tutorial tortoisesvn</td>\n",
       "    </tr>\n",
       "    <tr>\n",
       "      <th>2</th>\n",
       "      <td>120</td>\n",
       "      <td>83.0</td>\n",
       "      <td>2008-08-01 15:50:08+00:00</td>\n",
       "      <td>NaT</td>\n",
       "      <td>21</td>\n",
       "      <td>ASP.NET Site Maps</td>\n",
       "      <td>&lt;p&gt;Has anyone got experience creating &lt;strong&gt;...</td>\n",
       "      <td>1</td>\n",
       "      <td>['sql', 'asp.net', 'sitemap']</td>\n",
       "      <td>anyone get experience create sql base asp net ...</td>\n",
       "      <td>asp net site map</td>\n",
       "    </tr>\n",
       "    <tr>\n",
       "      <th>3</th>\n",
       "      <td>180</td>\n",
       "      <td>2089740.0</td>\n",
       "      <td>2008-08-01 18:42:19+00:00</td>\n",
       "      <td>NaT</td>\n",
       "      <td>53</td>\n",
       "      <td>Function for creating color wheels</td>\n",
       "      <td>&lt;p&gt;This is something I've pseudo-solved many t...</td>\n",
       "      <td>9</td>\n",
       "      <td>['algorithm', 'language-agnostic', 'colors', '...</td>\n",
       "      <td>something pseudo solve many time never quite f...</td>\n",
       "      <td>function create color wheel</td>\n",
       "    </tr>\n",
       "    <tr>\n",
       "      <th>4</th>\n",
       "      <td>260</td>\n",
       "      <td>91.0</td>\n",
       "      <td>2008-08-01 23:22:08+00:00</td>\n",
       "      <td>NaT</td>\n",
       "      <td>49</td>\n",
       "      <td>Adding scripting functionality to .NET applica...</td>\n",
       "      <td>&lt;p&gt;I have a little game written in C#. It uses...</td>\n",
       "      <td>9</td>\n",
       "      <td>['c#', '.net', 'scripting', 'compiler-construc...</td>\n",
       "      <td>little game write us database back end trading...</td>\n",
       "      <td>add script functionality net application</td>\n",
       "    </tr>\n",
       "  </tbody>\n",
       "</table>\n",
       "</div>"
      ]
     },
     "execution_count": 3,
     "metadata": {},
     "output_type": "execute_result"
    }
   ],
   "execution_count": 3
  },
  {
   "metadata": {
    "ExecuteTime": {
     "end_time": "2025-04-30T21:21:33.825937Z",
     "start_time": "2025-04-30T21:21:33.820924Z"
    }
   },
   "cell_type": "code",
   "source": "answers.head()",
   "id": "472a32d2f74a5fb0",
   "outputs": [
    {
     "data": {
      "text/plain": [
       "    Id  OwnerUserId              CreationDate  ParentId  Score  \\\n",
       "0   92         61.0 2008-08-01 14:45:37+00:00        90     13   \n",
       "1  124         26.0 2008-08-01 16:09:47+00:00        80     12   \n",
       "2  199         50.0 2008-08-01 19:36:46+00:00       180      1   \n",
       "3  269         91.0 2008-08-01 23:49:57+00:00       260      4   \n",
       "4  307         49.0 2008-08-02 01:49:46+00:00       260     28   \n",
       "\n",
       "                                                Body  \\\n",
       "0  <p><a href=\"http://svnbook.red-bean.com/\">Vers...   \n",
       "1  <p>I wound up using this. It is a kind of a ha...   \n",
       "2  <p>I've read somewhere the human eye can't dis...   \n",
       "3  <p>Yes, I thought about that, but I soon figur...   \n",
       "4  <p><a href=\"http://www.codeproject.com/Article...   \n",
       "\n",
       "                                           CleanBody  \n",
       "0  version control subversion good resource sourc...  \n",
       "1  wound use kind hack actually work pretty well ...  \n",
       "2  read somewhere human eye distinguish less valu...  \n",
       "3  yes thought soon figure another domain specifi...  \n",
       "4  oleg shilo script solution code project really...  "
      ],
      "text/html": [
       "<div>\n",
       "<style scoped>\n",
       "    .dataframe tbody tr th:only-of-type {\n",
       "        vertical-align: middle;\n",
       "    }\n",
       "\n",
       "    .dataframe tbody tr th {\n",
       "        vertical-align: top;\n",
       "    }\n",
       "\n",
       "    .dataframe thead th {\n",
       "        text-align: right;\n",
       "    }\n",
       "</style>\n",
       "<table border=\"1\" class=\"dataframe\">\n",
       "  <thead>\n",
       "    <tr style=\"text-align: right;\">\n",
       "      <th></th>\n",
       "      <th>Id</th>\n",
       "      <th>OwnerUserId</th>\n",
       "      <th>CreationDate</th>\n",
       "      <th>ParentId</th>\n",
       "      <th>Score</th>\n",
       "      <th>Body</th>\n",
       "      <th>CleanBody</th>\n",
       "    </tr>\n",
       "  </thead>\n",
       "  <tbody>\n",
       "    <tr>\n",
       "      <th>0</th>\n",
       "      <td>92</td>\n",
       "      <td>61.0</td>\n",
       "      <td>2008-08-01 14:45:37+00:00</td>\n",
       "      <td>90</td>\n",
       "      <td>13</td>\n",
       "      <td>&lt;p&gt;&lt;a href=\"http://svnbook.red-bean.com/\"&gt;Vers...</td>\n",
       "      <td>version control subversion good resource sourc...</td>\n",
       "    </tr>\n",
       "    <tr>\n",
       "      <th>1</th>\n",
       "      <td>124</td>\n",
       "      <td>26.0</td>\n",
       "      <td>2008-08-01 16:09:47+00:00</td>\n",
       "      <td>80</td>\n",
       "      <td>12</td>\n",
       "      <td>&lt;p&gt;I wound up using this. It is a kind of a ha...</td>\n",
       "      <td>wound use kind hack actually work pretty well ...</td>\n",
       "    </tr>\n",
       "    <tr>\n",
       "      <th>2</th>\n",
       "      <td>199</td>\n",
       "      <td>50.0</td>\n",
       "      <td>2008-08-01 19:36:46+00:00</td>\n",
       "      <td>180</td>\n",
       "      <td>1</td>\n",
       "      <td>&lt;p&gt;I've read somewhere the human eye can't dis...</td>\n",
       "      <td>read somewhere human eye distinguish less valu...</td>\n",
       "    </tr>\n",
       "    <tr>\n",
       "      <th>3</th>\n",
       "      <td>269</td>\n",
       "      <td>91.0</td>\n",
       "      <td>2008-08-01 23:49:57+00:00</td>\n",
       "      <td>260</td>\n",
       "      <td>4</td>\n",
       "      <td>&lt;p&gt;Yes, I thought about that, but I soon figur...</td>\n",
       "      <td>yes thought soon figure another domain specifi...</td>\n",
       "    </tr>\n",
       "    <tr>\n",
       "      <th>4</th>\n",
       "      <td>307</td>\n",
       "      <td>49.0</td>\n",
       "      <td>2008-08-02 01:49:46+00:00</td>\n",
       "      <td>260</td>\n",
       "      <td>28</td>\n",
       "      <td>&lt;p&gt;&lt;a href=\"http://www.codeproject.com/Article...</td>\n",
       "      <td>oleg shilo script solution code project really...</td>\n",
       "    </tr>\n",
       "  </tbody>\n",
       "</table>\n",
       "</div>"
      ]
     },
     "execution_count": 4,
     "metadata": {},
     "output_type": "execute_result"
    }
   ],
   "execution_count": 4
  },
  {
   "metadata": {},
   "cell_type": "code",
   "outputs": [],
   "execution_count": null,
   "source": "",
   "id": "3330f09e65329195"
  },
  {
   "metadata": {},
   "cell_type": "markdown",
   "source": "## 1. Индексирование",
   "id": "c6070b1028611d38"
  },
  {
   "cell_type": "markdown",
   "id": "c3a8d7a3",
   "metadata": {},
   "source": "### TF-IDF"
  },
  {
   "cell_type": "code",
   "id": "89d6e428",
   "metadata": {
    "ExecuteTime": {
     "end_time": "2025-04-30T21:22:41.295398Z",
     "start_time": "2025-04-30T21:21:33.876619Z"
    }
   },
   "source": [
    "# Ограничение на количество документов (вопросов) (None = взять все)\n",
    "MAX_DOCS = None\n",
    "\n",
    "# Используем очищенный текст из ЛР3\n",
    "docs = questions['CleanBody'] if MAX_DOCS is None else questions['CleanBody'][:MAX_DOCS]\n",
    "\n",
    "# Заменяем nan на пустую строку\n",
    "docs = docs.fillna(\"\")\n",
    "\n",
    "# Связь документов и векторов (связь между id вопроса и строкой в матрице)\n",
    "id2row = docs.index.to_list()  # row -> question_id\n",
    "row2id = {r: i for i, r in enumerate(id2row)}  # question_id -> row\n",
    "\n",
    "# Создаем объект TF-IDF векторизатора\n",
    "# Аргументы: \n",
    "# 1 и 2. Мин и Макс количество документов для включения терма\n",
    "# 3. Диапазон n-грамм из текста. Например тут означает, что будут извлекаться как униграммы (1-сложные слова), так и биграммы (2-сложные слова, то есть пары слов)\n",
    "tfidf = TfidfVectorizer(min_df=3, max_df=0.9, ngram_range=(1, 2))\n",
    "\n",
    "# Строим разреженную TF-IDF матрицу для документов (строка соответствует документу (вопросу), колонка - терму)\n",
    "# Значение ячейки это вес ее терма\n",
    "# Это и есть основной индекс для быстрого поиска, так как позже будем считать косинусное сходство между вектором запроса и X\n",
    "# Инвертированный индекс (то есть индексы вопросов в которых встречается конкретный терм) реализованы внутри, как и в BM25\n",
    "X = tfidf.fit_transform(docs)\n",
    "print(f'Sparse TF-IDF matrix shape: {X.shape}')\n"
   ],
   "outputs": [
    {
     "name": "stdout",
     "output_type": "stream",
     "text": [
      "Sparse TF-IDF matrix shape: (1264216, 1932765)\n"
     ]
    }
   ],
   "execution_count": 5
  },
  {
   "cell_type": "markdown",
   "id": "f0af6826",
   "metadata": {},
   "source": "### BM25"
  },
  {
   "cell_type": "code",
   "id": "42256d3b",
   "metadata": {
    "ExecuteTime": {
     "end_time": "2025-04-30T21:23:46.022179Z",
     "start_time": "2025-04-30T21:23:04.719077Z"
    }
   },
   "source": [
    "# Токенизируем корпус для BM25 (список списков слов)\n",
    "tokenized_corpus = [d.split() for d in docs]\n",
    "\n",
    "# Строим BM25 по токенизированным документам\n",
    "bm25 = BM25Okapi(tokenized_corpus)\n",
    "# Получим среднее число токенов в документе\n",
    "avgdl = bm25.avgdl\n",
    "\n",
    "# Веса термов BM25\n",
    "# print(bm25.get_scores())\n",
    "\n",
    "print(f'BM25 avgdl = {avgdl:.1f}')"
   ],
   "outputs": [
    {
     "name": "stdout",
     "output_type": "stream",
     "text": [
      "BM25 avgdl = 45.0\n"
     ]
    }
   ],
   "execution_count": 7
  },
  {
   "metadata": {},
   "cell_type": "markdown",
   "source": "## 2. Реализация поиска",
   "id": "96e6035458b948ad"
  },
  {
   "metadata": {
    "ExecuteTime": {
     "end_time": "2025-04-30T21:23:46.060619Z",
     "start_time": "2025-04-30T21:23:46.043896Z"
    }
   },
   "cell_type": "code",
   "source": [
    "STOPWORDS = set(stopwords.words('english'))\n",
    "lemmatizer = WordNetLemmatizer()\n",
    "\n",
    "\n",
    "# Функция для определения части речи\n",
    "def get_wordnet_pos(word):\n",
    "    tag = nltk.pos_tag([word])[0][1][0].upper()\n",
    "    tag_dict = {\n",
    "        'J': wordnet.ADJ,\n",
    "        'N': wordnet.NOUN,\n",
    "        'V': wordnet.VERB,\n",
    "        'R': wordnet.ADV\n",
    "    }\n",
    "    return tag_dict.get(tag, wordnet.NOUN)\n",
    "\n",
    "\n",
    "# Предобработка запроса теми же шагами\n",
    "def preprocess_query(q: str):\n",
    "    # Убираем теги\n",
    "    text = re.sub(r'<code.*?>.*?</code>', '', q, flags=re.DOTALL | re.IGNORECASE)\n",
    "    text = re.sub(r'<[^>]+>', ' ', text)\n",
    "    # В нижний шрифт\n",
    "    text = text.lower()\n",
    "    # Убираем markdown и ссылки\n",
    "    text = re.sub(r'http\\S+|www\\S+', ' ', text)\n",
    "    # Оставляем только буквы/цифры\n",
    "    text = re.sub(r'[^a-z0-9\\s]', ' ', text)\n",
    "    # Преобразуем в начальную форму\n",
    "    tokens = [lemmatizer.lemmatize(tok, get_wordnet_pos(tok)) for tok in text.split() if tok not in STOPWORDS and len(tok) > 2]\n",
    "    return ' '.join(tokens), tokens\n",
    "\n",
    "\n",
    "def search_tfidf(query: str, top_k: int = 10):\n",
    "    # Предобработка\n",
    "    clean_q, _ = preprocess_query(query)\n",
    "    # Векторизируем\n",
    "    q_vec = tfidf.transform([clean_q])\n",
    "    # Смотрим сходство запроса с каждым вопросом\n",
    "    sims = cosine_similarity(q_vec, X).ravel()\n",
    "    # Возвращаем top_k схожих вопросов \n",
    "    top_idx = sims.argsort()[::-1][:top_k]\n",
    "    return [(id2row[i], sims[i]) for i in top_idx if sims[i] > 0]\n",
    "\n",
    "\n",
    "def search_bm25(query: str, top_k: int = 10):\n",
    "    # Предобработка\n",
    "    _, toks = preprocess_query(query)\n",
    "    # Скоры для каждого токена\n",
    "    scores = bm25.get_scores(toks)\n",
    "    # Возвращаем top_k схожих вопросов \n",
    "    top_idx = np.argsort(scores)[::-1][:top_k]\n",
    "    return [(id2row[i], scores[i]) for i in top_idx if scores[i] > 0]"
   ],
   "id": "91d428debb916682",
   "outputs": [],
   "execution_count": 8
  },
  {
   "metadata": {},
   "cell_type": "markdown",
   "source": "## 3. Извлечение ответа",
   "id": "c1aa035804d2f44b"
  },
  {
   "metadata": {},
   "cell_type": "markdown",
   "source": "### Столбец ответов",
   "id": "1ca010ed2703fbac"
  },
  {
   "metadata": {
    "ExecuteTime": {
     "end_time": "2025-05-01T10:45:42.210940Z",
     "start_time": "2025-05-01T10:45:42.199626Z"
    }
   },
   "cell_type": "code",
   "source": [
    "def get_best_answer(question_id):\n",
    "    subset = answers[answers['ParentId'] == question_id]\n",
    "\n",
    "    # Если пусто, то ответов нет\n",
    "    if subset.empty:\n",
    "        return None\n",
    "\n",
    "    # Берем лучший по рейтингу\n",
    "    best = subset.sort_values(['Score', 'CreationDate'], ascending=[False, True]).iloc[0]\n",
    "    return best['CleanBody']"
   ],
   "id": "fb998cd92d4ddc02",
   "outputs": [],
   "execution_count": 62
  },
  {
   "metadata": {
    "ExecuteTime": {
     "end_time": "2025-05-01T11:06:39.163226Z",
     "start_time": "2025-05-01T10:45:42.857333Z"
    }
   },
   "cell_type": "code",
   "source": [
    "# Добавляем столбец AcceptedAnswer\n",
    "questions['AcceptedAnswer'] = questions['Id'].map(get_best_answer)\n",
    "questions.head()"
   ],
   "id": "5189b6a2456a7344",
   "outputs": [
    {
     "data": {
      "text/plain": [
       "    Id  OwnerUserId              CreationDate                ClosedDate  \\\n",
       "0   80         26.0 2008-08-01 13:57:07+00:00                       NaT   \n",
       "1   90         58.0 2008-08-01 14:41:24+00:00 2012-12-26 03:45:49+00:00   \n",
       "2  120         83.0 2008-08-01 15:50:08+00:00                       NaT   \n",
       "3  180    2089740.0 2008-08-01 18:42:19+00:00                       NaT   \n",
       "4  260         91.0 2008-08-01 23:22:08+00:00                       NaT   \n",
       "\n",
       "   Score                                              Title  \\\n",
       "0     26  SQLStatement.execute() - multiple queries in o...   \n",
       "1    144  Good branching and merging tutorials for Torto...   \n",
       "2     21                                  ASP.NET Site Maps   \n",
       "3     53                 Function for creating color wheels   \n",
       "4     49  Adding scripting functionality to .NET applica...   \n",
       "\n",
       "                                                Body  AnswerCount  \\\n",
       "0  <p>I've written a database generation script i...            3   \n",
       "1  <p>Are there any really good tutorials explain...            3   \n",
       "2  <p>Has anyone got experience creating <strong>...            1   \n",
       "3  <p>This is something I've pseudo-solved many t...            9   \n",
       "4  <p>I have a little game written in C#. It uses...            9   \n",
       "\n",
       "                                             TagList  \\\n",
       "0                  ['flex', 'actionscript-3', 'air']   \n",
       "1  ['svn', 'tortoisesvn', 'branch', 'branching-an...   \n",
       "2                      ['sql', 'asp.net', 'sitemap']   \n",
       "3  ['algorithm', 'language-agnostic', 'colors', '...   \n",
       "4  ['c#', '.net', 'scripting', 'compiler-construc...   \n",
       "\n",
       "                                           CleanBody  \\\n",
       "0  write database generation script sql want exec...   \n",
       "1  really good tutorial explain branching merge a...   \n",
       "2  anyone get experience create sql base asp net ...   \n",
       "3  something pseudo solve many time never quite f...   \n",
       "4  little game write us database back end trading...   \n",
       "\n",
       "                                          CleanTitle  \\\n",
       "0  sqlstatement execute multiple query one statement   \n",
       "1          good branching merge tutorial tortoisesvn   \n",
       "2                                   asp net site map   \n",
       "3                        function create color wheel   \n",
       "4           add script functionality net application   \n",
       "\n",
       "                                    AcceptedAnswerId  \\\n",
       "0  wound use kind hack actually work pretty well ...   \n",
       "1  easy click click instruction specific tortoise...   \n",
       "2  jeff prosise version msdn magazine work pretty...   \n",
       "3  first thought generate vector space maximize d...   \n",
       "4  oleg shilo script solution code project really...   \n",
       "\n",
       "                                      AcceptedAnswer  \n",
       "0  wound use kind hack actually work pretty well ...  \n",
       "1  easy click click instruction specific tortoise...  \n",
       "2  jeff prosise version msdn magazine work pretty...  \n",
       "3  first thought generate vector space maximize d...  \n",
       "4  oleg shilo script solution code project really...  "
      ],
      "text/html": [
       "<div>\n",
       "<style scoped>\n",
       "    .dataframe tbody tr th:only-of-type {\n",
       "        vertical-align: middle;\n",
       "    }\n",
       "\n",
       "    .dataframe tbody tr th {\n",
       "        vertical-align: top;\n",
       "    }\n",
       "\n",
       "    .dataframe thead th {\n",
       "        text-align: right;\n",
       "    }\n",
       "</style>\n",
       "<table border=\"1\" class=\"dataframe\">\n",
       "  <thead>\n",
       "    <tr style=\"text-align: right;\">\n",
       "      <th></th>\n",
       "      <th>Id</th>\n",
       "      <th>OwnerUserId</th>\n",
       "      <th>CreationDate</th>\n",
       "      <th>ClosedDate</th>\n",
       "      <th>Score</th>\n",
       "      <th>Title</th>\n",
       "      <th>Body</th>\n",
       "      <th>AnswerCount</th>\n",
       "      <th>TagList</th>\n",
       "      <th>CleanBody</th>\n",
       "      <th>CleanTitle</th>\n",
       "      <th>AcceptedAnswerId</th>\n",
       "      <th>AcceptedAnswer</th>\n",
       "    </tr>\n",
       "  </thead>\n",
       "  <tbody>\n",
       "    <tr>\n",
       "      <th>0</th>\n",
       "      <td>80</td>\n",
       "      <td>26.0</td>\n",
       "      <td>2008-08-01 13:57:07+00:00</td>\n",
       "      <td>NaT</td>\n",
       "      <td>26</td>\n",
       "      <td>SQLStatement.execute() - multiple queries in o...</td>\n",
       "      <td>&lt;p&gt;I've written a database generation script i...</td>\n",
       "      <td>3</td>\n",
       "      <td>['flex', 'actionscript-3', 'air']</td>\n",
       "      <td>write database generation script sql want exec...</td>\n",
       "      <td>sqlstatement execute multiple query one statement</td>\n",
       "      <td>wound use kind hack actually work pretty well ...</td>\n",
       "      <td>wound use kind hack actually work pretty well ...</td>\n",
       "    </tr>\n",
       "    <tr>\n",
       "      <th>1</th>\n",
       "      <td>90</td>\n",
       "      <td>58.0</td>\n",
       "      <td>2008-08-01 14:41:24+00:00</td>\n",
       "      <td>2012-12-26 03:45:49+00:00</td>\n",
       "      <td>144</td>\n",
       "      <td>Good branching and merging tutorials for Torto...</td>\n",
       "      <td>&lt;p&gt;Are there any really good tutorials explain...</td>\n",
       "      <td>3</td>\n",
       "      <td>['svn', 'tortoisesvn', 'branch', 'branching-an...</td>\n",
       "      <td>really good tutorial explain branching merge a...</td>\n",
       "      <td>good branching merge tutorial tortoisesvn</td>\n",
       "      <td>easy click click instruction specific tortoise...</td>\n",
       "      <td>easy click click instruction specific tortoise...</td>\n",
       "    </tr>\n",
       "    <tr>\n",
       "      <th>2</th>\n",
       "      <td>120</td>\n",
       "      <td>83.0</td>\n",
       "      <td>2008-08-01 15:50:08+00:00</td>\n",
       "      <td>NaT</td>\n",
       "      <td>21</td>\n",
       "      <td>ASP.NET Site Maps</td>\n",
       "      <td>&lt;p&gt;Has anyone got experience creating &lt;strong&gt;...</td>\n",
       "      <td>1</td>\n",
       "      <td>['sql', 'asp.net', 'sitemap']</td>\n",
       "      <td>anyone get experience create sql base asp net ...</td>\n",
       "      <td>asp net site map</td>\n",
       "      <td>jeff prosise version msdn magazine work pretty...</td>\n",
       "      <td>jeff prosise version msdn magazine work pretty...</td>\n",
       "    </tr>\n",
       "    <tr>\n",
       "      <th>3</th>\n",
       "      <td>180</td>\n",
       "      <td>2089740.0</td>\n",
       "      <td>2008-08-01 18:42:19+00:00</td>\n",
       "      <td>NaT</td>\n",
       "      <td>53</td>\n",
       "      <td>Function for creating color wheels</td>\n",
       "      <td>&lt;p&gt;This is something I've pseudo-solved many t...</td>\n",
       "      <td>9</td>\n",
       "      <td>['algorithm', 'language-agnostic', 'colors', '...</td>\n",
       "      <td>something pseudo solve many time never quite f...</td>\n",
       "      <td>function create color wheel</td>\n",
       "      <td>first thought generate vector space maximize d...</td>\n",
       "      <td>first thought generate vector space maximize d...</td>\n",
       "    </tr>\n",
       "    <tr>\n",
       "      <th>4</th>\n",
       "      <td>260</td>\n",
       "      <td>91.0</td>\n",
       "      <td>2008-08-01 23:22:08+00:00</td>\n",
       "      <td>NaT</td>\n",
       "      <td>49</td>\n",
       "      <td>Adding scripting functionality to .NET applica...</td>\n",
       "      <td>&lt;p&gt;I have a little game written in C#. It uses...</td>\n",
       "      <td>9</td>\n",
       "      <td>['c#', '.net', 'scripting', 'compiler-construc...</td>\n",
       "      <td>little game write us database back end trading...</td>\n",
       "      <td>add script functionality net application</td>\n",
       "      <td>oleg shilo script solution code project really...</td>\n",
       "      <td>oleg shilo script solution code project really...</td>\n",
       "    </tr>\n",
       "  </tbody>\n",
       "</table>\n",
       "</div>"
      ]
     },
     "execution_count": 63,
     "metadata": {},
     "output_type": "execute_result"
    }
   ],
   "execution_count": 63
  },
  {
   "metadata": {
    "ExecuteTime": {
     "end_time": "2025-05-01T11:07:13.852560Z",
     "start_time": "2025-05-01T11:06:39.678123Z"
    }
   },
   "cell_type": "code",
   "source": [
    "# Сохраняем очищенные данные\n",
    "questions.to_csv(DATA_DIR + '/Questions_cleared.csv', index=False)"
   ],
   "id": "84fe09ebd2fcddf5",
   "outputs": [],
   "execution_count": 64
  },
  {
   "metadata": {},
   "cell_type": "markdown",
   "source": "### Тестирование",
   "id": "bb772a21665b2f64"
  },
  {
   "metadata": {
    "ExecuteTime": {
     "end_time": "2025-05-01T00:11:06.780411Z",
     "start_time": "2025-05-01T00:11:06.774678Z"
    }
   },
   "cell_type": "code",
   "source": [
    "def test_engines(query):\n",
    "    print(f'Query: {query}\\n')\n",
    "\n",
    "    for engine, func in [('TF-IDF', search_tfidf), ('BM25', search_bm25)]:\n",
    "        print(f'== {engine} ==')\n",
    "        for qid, score in func(query, top_k=1):\n",
    "            title = questions.loc[qid]['Title'][:120]\n",
    "            print(f'    [{qid}] {score:0.4f}  —  {title}')\n",
    "            best_ans = questions.loc[qid]['AcceptedAnswer'][:120]\n",
    "            if best_ans == '':\n",
    "                print(\"    No answers found for this question\")\n",
    "                return\n",
    "            print(f'    Best answer: {best_ans}\\n')"
   ],
   "id": "a835e84d6089d25d",
   "outputs": [],
   "execution_count": 61
  },
  {
   "metadata": {
    "ExecuteTime": {
     "end_time": "2025-05-01T00:10:45.125976Z",
     "start_time": "2025-05-01T00:10:17.987854Z"
    }
   },
   "cell_type": "code",
   "source": "test_engines('How to convert a string to a list in Python?')",
   "id": "48acc71457ca5a7e",
   "outputs": [
    {
     "name": "stdout",
     "output_type": "stream",
     "text": [
      "Query: How to convert a string to a list in Python?\n",
      "\n",
      "== TF-IDF ==\n",
      "    [424043] 0.4350  —  Convert string to list in python\n",
      "    Best answer: without problem seem problem either\n",
      "\n",
      "== BM25 ==\n",
      "    [424043] 20.5504  —  Convert string to list in python\n",
      "    Best answer: without problem seem problem either\n",
      "\n"
     ]
    }
   ],
   "execution_count": 59
  },
  {
   "metadata": {
    "ExecuteTime": {
     "end_time": "2025-05-01T00:11:06.738169Z",
     "start_time": "2025-05-01T00:10:53.337419Z"
    }
   },
   "cell_type": "code",
   "source": "test_engines('How to convert string to int in Python?')",
   "id": "d8c562cd16c5d4f2",
   "outputs": [
    {
     "name": "stdout",
     "output_type": "stream",
     "text": [
      "Query: How to convert string to int in Python?\n",
      "\n",
      "== TF-IDF ==\n",
      "    [967922] 0.4233  —  Is there other ways to convert a string to int in python2 without int and string.atoi?\n",
      "    Best answer: would recommend use try catch also use module\n",
      "\n",
      "== BM25 ==\n",
      "    [700306] 22.6460  —  ValueError: invalid literal for int() with base 10: '0.00'\n",
      "    Best answer: easy way first convert sure fractional part always zero faster would use float\n",
      "\n"
     ]
    }
   ],
   "execution_count": 60
  },
  {
   "metadata": {},
   "cell_type": "markdown",
   "source": "## 4. Оценка качества",
   "id": "31e6488ab22a0ac"
  },
  {
   "metadata": {},
   "cell_type": "markdown",
   "source": [
    "Формулы для оценки качества и поиска рекомендашек. Они измеряют насколько хорошо система возвращает релевантные документы на запросы\n",
    "1. Точность на топ-k результатах (по количеству релевантных в топе)\n",
    "2. Mean Reciprocal Rank измеряет, насколько быстро (раньше) среди результатов встречается первый релевантный документ\n"
   ],
   "id": "f7739241994ff23d"
  },
  {
   "metadata": {
    "ExecuteTime": {
     "end_time": "2025-04-30T21:23:50.344183Z",
     "start_time": "2025-04-30T21:23:50.335816Z"
    }
   },
   "cell_type": "code",
   "source": [
    "from IPython.display import Markdown\n",
    "\n",
    "Markdown(r'''\n",
    "$$\n",
    "\\text{Precision@}k = \\frac{1}{k} \\sum_{i=1}^{k} \\mathbf{1}[\\text{rel}_i]\n",
    "$$\n",
    "- где $\\mathbf{1}[\\text{rel}_i]$ — индикатор релевантности результата на $i$-ой позиции\n",
    "\n",
    "$$\n",
    "\\text{MRR} = \\frac{1}{|Q|} \\sum_{q \\in Q} \\frac{1}{\\text{rank}_q}\n",
    "$$\n",
    "- где $\\text{rank}_q$ — позиция первого релевантного документа для запроса $q$\n",
    "''')"
   ],
   "id": "e9fcec907aac0d87",
   "outputs": [
    {
     "data": {
      "text/plain": [
       "<IPython.core.display.Markdown object>"
      ],
      "text/markdown": "\n$$\n\\text{Precision@}k = \\frac{1}{k} \\sum_{i=1}^{k} \\mathbf{1}[\\text{rel}_i]\n$$\n- где $\\mathbf{1}[\\text{rel}_i]$ — индикатор релевантности результата на $i$-ой позиции\n\n$$\n\\text{MRR} = \\frac{1}{|Q|} \\sum_{q \\in Q} \\frac{1}{\\text{rank}_q}\n$$\n- где $\\text{rank}_q$ — позиция первого релевантного документа для запроса $q$\n"
     },
     "execution_count": 11,
     "metadata": {},
     "output_type": "execute_result"
    }
   ],
   "execution_count": 11
  },
  {
   "metadata": {
    "ExecuteTime": {
     "end_time": "2025-04-30T21:51:22.637690Z",
     "start_time": "2025-04-30T21:46:39.730655Z"
    }
   },
   "cell_type": "code",
   "source": [
    "# Подготовка случайного набора запросов\n",
    "SAMPLE_N = 100\n",
    "sample_ids = random.sample(list(questions.index), SAMPLE_N)\n",
    "sample_queries = questions.loc[sample_ids]['CleanTitle'].tolist()\n",
    "\n",
    "\n",
    "# Функция оценки поиска\n",
    "def evaluate(engine_func):\n",
    "    k = 5  # Сколько документов из топа будем брать\n",
    "    precisions, recip_ranks = [], []\n",
    "\n",
    "    for qid, q in zip(sample_ids, sample_queries):\n",
    "        # Выполняем поиск по запросу\n",
    "        results = [doc for doc, _ in engine_func(q, top_k=k)]\n",
    "\n",
    "        # Если не нашли, то нули\n",
    "        if not results:\n",
    "            precisions.append(0)\n",
    "            recip_ranks.append(0)\n",
    "            continue\n",
    "\n",
    "        # Строим список релевантности\n",
    "        rel = [1 if doc == qid else 0 for doc in results]\n",
    "\n",
    "        # Считаем точность\n",
    "        precisions.append(sum(rel) / k)\n",
    "\n",
    "        # Считаем ранк для MRR\n",
    "        try:\n",
    "            rank = rel.index(1) + 1  # Позиция первого релевантного ответа\n",
    "            recip_ranks.append(1 / rank)\n",
    "        except ValueError:\n",
    "            recip_ranks.append(0)  # Нет релевантных документов\n",
    "\n",
    "    # Возвращаем среднее по всем запросам\n",
    "    return np.mean(precisions), np.mean(recip_ranks)\n",
    "\n",
    "\n",
    "# Вычисляем метрики\n",
    "p_tfidf, mrr_tfidf = evaluate(search_tfidf)\n",
    "p_bm25, mrr_bm25 = evaluate(search_bm25)\n",
    "\n",
    "# Результаты\n",
    "print(f'TF-IDF  |  Precision@5 = {p_tfidf:.2f},   MRR = {mrr_tfidf:.2f}')\n",
    "print(f'BM25    |  Precision@5 = {p_bm25:.2f},   MRR = {mrr_bm25:.2f}')"
   ],
   "id": "4fd21cacafb7cb9f",
   "outputs": [
    {
     "name": "stdout",
     "output_type": "stream",
     "text": [
      "TF-IDF  |  Precision@5 = 0.07,   MRR = 0.29\n",
      "BM25    |  Precision@5 = 0.10,   MRR = 0.41\n"
     ]
    }
   ],
   "execution_count": 44
  },
  {
   "metadata": {
    "ExecuteTime": {
     "end_time": "2025-04-30T21:27:55.979239Z",
     "start_time": "2025-04-30T21:27:55.977705Z"
    }
   },
   "cell_type": "code",
   "source": "",
   "id": "35a370a5a4a03079",
   "outputs": [],
   "execution_count": null
  },
  {
   "metadata": {},
   "cell_type": "markdown",
   "source": "## 5. Документация результатов",
   "id": "2e153a6524e5d62a"
  },
  {
   "metadata": {},
   "cell_type": "markdown",
   "source": [
    "* **TF-IDF** обеспечивает простой и быстрый поиск без сложных вычислительных ресурсов.\n",
    "\n",
    "  Формула TF-IDF для термина $t$ в документе $d$:\n",
    "  $$\n",
    "  \\text{TF-IDF}_{t,d} = \\text{TF}_{t,d} \\cdot \\log \\left( \\frac{N}{1 + n_t} \\right)\n",
    "  $$\n",
    "  где:\n",
    "  - $\\text{TF}_{t,d}$ — частота термина $t$ в документе $d$,\n",
    "  - $N$ — общее число документов,\n",
    "  - $n_t$ — количество документов, в которых встречается термин $t$.\n",
    "\n",
    "  TF-IDF увеличивает вес редких, но потенциально значимых слов, и уменьшает влияние часто встречающихся слов (например, \"data\", \"the\").\n",
    "\n",
    "* **BM25** обычно даёт более релевантные результаты благодаря учёту длины документа и сглаживанию TF.\n",
    "\n",
    "  Формула оценки BM25:\n",
    "  $$\n",
    "  \\text{score}(q, D) = \\sum_{t \\in q} \\text{IDF}_t \\cdot \\frac{f(t,D) \\cdot (k_1 + 1)}{f(t,D) + k_1 \\cdot (1 - b + b \\cdot \\frac{|D|}{\\text{avgdl}})}\n",
    "  $$\n",
    "  где:\n",
    "  - $f(t,D)$ — частота термина $t$ в документе $D$,\n",
    "  - $|D|$ — длина документа,\n",
    "  - $\\text{avgdl}$ — средняя длина документов в коллекции,\n",
    "  - $k_1$, $b$ — гиперпараметры (обычно $k_1 = 1.5$, $b = 0.75$),\n",
    "  - $\\text{IDF}_t = \\log \\left( \\frac{N - n_t + 0.5}{n_t + 0.5} + 1 \\right)$\n",
    "\n",
    "  В отличие от TF-IDF, BM25 ограничивает вклад термина с очень высокой частотой и корректирует результат в зависимости от длины документа.\n",
    "\n",
    "* **Ограничения классических методов**:\n",
    "  * отсутствие учёта **синонимии и семантики**: например, \"car\" и \"automobile\" не распознаются как близкие;\n",
    "  * невозможность **понимать порядок слов** (большинство моделей представляют тексты как мешок слов);\n",
    "  * **чувствительность к формулировке запроса** — небольшое изменение формулировки может сильно изменить результаты.\n"
   ],
   "id": "c2e137adfefae4ec"
  },
  {
   "metadata": {},
   "cell_type": "code",
   "outputs": [],
   "execution_count": null,
   "source": "",
   "id": "aa52b7a35be84ba"
  }
 ],
 "metadata": {
  "kernelspec": {
   "name": "python3",
   "language": "python",
   "display_name": "Python 3 (ipykernel)"
  }
 },
 "nbformat": 4,
 "nbformat_minor": 5
}
