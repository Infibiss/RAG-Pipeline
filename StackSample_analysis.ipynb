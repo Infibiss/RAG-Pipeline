{
 "cells": [
  {
   "metadata": {},
   "cell_type": "markdown",
   "source": "Муртазалиев Матвей, 466797, J3110",
   "id": "a97f9820"
  },
  {
   "metadata": {},
   "cell_type": "markdown",
   "source": "## 1. Загрузка данных",
   "id": "4ed94df80e566889"
  },
  {
   "cell_type": "code",
   "id": "b9bfcbe8",
   "metadata": {
    "ExecuteTime": {
     "end_time": "2025-04-30T12:24:40.112980Z",
     "start_time": "2025-04-30T12:24:40.109636Z"
    }
   },
   "source": [
    "# Импорт библиотек\n",
    "import pandas as pd\n",
    "import numpy as np\n",
    "import re\n",
    "import os\n",
    "import warnings\n",
    "import math\n",
    "import nltk\n",
    "import matplotlib.pyplot as plt\n",
    "import seaborn as sns\n",
    "from nltk.corpus import stopwords, wordnet\n",
    "from nltk.stem import WordNetLemmatizer\n",
    "\n",
    "warnings.filterwarnings('ignore')\n",
    "\n",
    "# Cкачиваем словари при первом запуске\n",
    "nltk.download('punkt', quiet=True)\n",
    "nltk.download('stopwords', quiet=True)\n",
    "nltk.download('wordnet', quiet=True)\n",
    "plt.rcParams['figure.figsize'] = (10, 5)\n",
    "sns.set_style('whitegrid')"
   ],
   "outputs": [],
   "execution_count": 8
  },
  {
   "cell_type": "code",
   "id": "cd2e9545",
   "metadata": {
    "ExecuteTime": {
     "end_time": "2025-04-30T12:24:04.062247Z",
     "start_time": "2025-04-30T12:23:23.730993Z"
    }
   },
   "source": [
    "# Чтение файлов\n",
    "DATA_DIR = '../data'\n",
    "questions = pd.read_csv(os.path.join(DATA_DIR, 'Questions.csv'), encoding='latin1', parse_dates=['CreationDate', 'ClosedDate'])\n",
    "answers = pd.read_csv(os.path.join(DATA_DIR, 'Answers.csv'), encoding='latin1', parse_dates=['CreationDate'])\n",
    "tags = pd.read_csv(os.path.join(DATA_DIR, 'Tags.csv'), encoding='latin1')\n",
    "\n",
    "print('Questions:', questions.shape)\n",
    "print('Answers  :', answers.shape)\n",
    "print('Tags     :', tags.shape)\n"
   ],
   "outputs": [
    {
     "name": "stdout",
     "output_type": "stream",
     "text": [
      "Questions: (1264216, 7)\n",
      "Answers  : (2014516, 6)\n",
      "Tags     : (3750994, 2)\n"
     ]
    }
   ],
   "execution_count": 2
  },
  {
   "metadata": {
    "ExecuteTime": {
     "end_time": "2025-04-30T12:24:04.211683Z",
     "start_time": "2025-04-30T12:24:04.204224Z"
    }
   },
   "cell_type": "code",
   "source": "questions.head()",
   "id": "7fc8e936f229e466",
   "outputs": [
    {
     "data": {
      "text/plain": [
       "    Id  OwnerUserId              CreationDate                ClosedDate  \\\n",
       "0   80         26.0 2008-08-01 13:57:07+00:00                       NaT   \n",
       "1   90         58.0 2008-08-01 14:41:24+00:00 2012-12-26 03:45:49+00:00   \n",
       "2  120         83.0 2008-08-01 15:50:08+00:00                       NaT   \n",
       "3  180    2089740.0 2008-08-01 18:42:19+00:00                       NaT   \n",
       "4  260         91.0 2008-08-01 23:22:08+00:00                       NaT   \n",
       "\n",
       "   Score                                              Title  \\\n",
       "0     26  SQLStatement.execute() - multiple queries in o...   \n",
       "1    144  Good branching and merging tutorials for Torto...   \n",
       "2     21                                  ASP.NET Site Maps   \n",
       "3     53                 Function for creating color wheels   \n",
       "4     49  Adding scripting functionality to .NET applica...   \n",
       "\n",
       "                                                Body  \n",
       "0  <p>I've written a database generation script i...  \n",
       "1  <p>Are there any really good tutorials explain...  \n",
       "2  <p>Has anyone got experience creating <strong>...  \n",
       "3  <p>This is something I've pseudo-solved many t...  \n",
       "4  <p>I have a little game written in C#. It uses...  "
      ],
      "text/html": [
       "<div>\n",
       "<style scoped>\n",
       "    .dataframe tbody tr th:only-of-type {\n",
       "        vertical-align: middle;\n",
       "    }\n",
       "\n",
       "    .dataframe tbody tr th {\n",
       "        vertical-align: top;\n",
       "    }\n",
       "\n",
       "    .dataframe thead th {\n",
       "        text-align: right;\n",
       "    }\n",
       "</style>\n",
       "<table border=\"1\" class=\"dataframe\">\n",
       "  <thead>\n",
       "    <tr style=\"text-align: right;\">\n",
       "      <th></th>\n",
       "      <th>Id</th>\n",
       "      <th>OwnerUserId</th>\n",
       "      <th>CreationDate</th>\n",
       "      <th>ClosedDate</th>\n",
       "      <th>Score</th>\n",
       "      <th>Title</th>\n",
       "      <th>Body</th>\n",
       "    </tr>\n",
       "  </thead>\n",
       "  <tbody>\n",
       "    <tr>\n",
       "      <th>0</th>\n",
       "      <td>80</td>\n",
       "      <td>26.0</td>\n",
       "      <td>2008-08-01 13:57:07+00:00</td>\n",
       "      <td>NaT</td>\n",
       "      <td>26</td>\n",
       "      <td>SQLStatement.execute() - multiple queries in o...</td>\n",
       "      <td>&lt;p&gt;I've written a database generation script i...</td>\n",
       "    </tr>\n",
       "    <tr>\n",
       "      <th>1</th>\n",
       "      <td>90</td>\n",
       "      <td>58.0</td>\n",
       "      <td>2008-08-01 14:41:24+00:00</td>\n",
       "      <td>2012-12-26 03:45:49+00:00</td>\n",
       "      <td>144</td>\n",
       "      <td>Good branching and merging tutorials for Torto...</td>\n",
       "      <td>&lt;p&gt;Are there any really good tutorials explain...</td>\n",
       "    </tr>\n",
       "    <tr>\n",
       "      <th>2</th>\n",
       "      <td>120</td>\n",
       "      <td>83.0</td>\n",
       "      <td>2008-08-01 15:50:08+00:00</td>\n",
       "      <td>NaT</td>\n",
       "      <td>21</td>\n",
       "      <td>ASP.NET Site Maps</td>\n",
       "      <td>&lt;p&gt;Has anyone got experience creating &lt;strong&gt;...</td>\n",
       "    </tr>\n",
       "    <tr>\n",
       "      <th>3</th>\n",
       "      <td>180</td>\n",
       "      <td>2089740.0</td>\n",
       "      <td>2008-08-01 18:42:19+00:00</td>\n",
       "      <td>NaT</td>\n",
       "      <td>53</td>\n",
       "      <td>Function for creating color wheels</td>\n",
       "      <td>&lt;p&gt;This is something I've pseudo-solved many t...</td>\n",
       "    </tr>\n",
       "    <tr>\n",
       "      <th>4</th>\n",
       "      <td>260</td>\n",
       "      <td>91.0</td>\n",
       "      <td>2008-08-01 23:22:08+00:00</td>\n",
       "      <td>NaT</td>\n",
       "      <td>49</td>\n",
       "      <td>Adding scripting functionality to .NET applica...</td>\n",
       "      <td>&lt;p&gt;I have a little game written in C#. It uses...</td>\n",
       "    </tr>\n",
       "  </tbody>\n",
       "</table>\n",
       "</div>"
      ]
     },
     "execution_count": 3,
     "metadata": {},
     "output_type": "execute_result"
    }
   ],
   "execution_count": 3
  },
  {
   "metadata": {
    "ExecuteTime": {
     "end_time": "2025-04-30T12:24:04.262216Z",
     "start_time": "2025-04-30T12:24:04.258105Z"
    }
   },
   "cell_type": "code",
   "source": "answers.head()",
   "id": "d6c4fbf25f2eff8c",
   "outputs": [
    {
     "data": {
      "text/plain": [
       "    Id  OwnerUserId              CreationDate  ParentId  Score  \\\n",
       "0   92         61.0 2008-08-01 14:45:37+00:00        90     13   \n",
       "1  124         26.0 2008-08-01 16:09:47+00:00        80     12   \n",
       "2  199         50.0 2008-08-01 19:36:46+00:00       180      1   \n",
       "3  269         91.0 2008-08-01 23:49:57+00:00       260      4   \n",
       "4  307         49.0 2008-08-02 01:49:46+00:00       260     28   \n",
       "\n",
       "                                                Body  \n",
       "0  <p><a href=\"http://svnbook.red-bean.com/\">Vers...  \n",
       "1  <p>I wound up using this. It is a kind of a ha...  \n",
       "2  <p>I've read somewhere the human eye can't dis...  \n",
       "3  <p>Yes, I thought about that, but I soon figur...  \n",
       "4  <p><a href=\"http://www.codeproject.com/Article...  "
      ],
      "text/html": [
       "<div>\n",
       "<style scoped>\n",
       "    .dataframe tbody tr th:only-of-type {\n",
       "        vertical-align: middle;\n",
       "    }\n",
       "\n",
       "    .dataframe tbody tr th {\n",
       "        vertical-align: top;\n",
       "    }\n",
       "\n",
       "    .dataframe thead th {\n",
       "        text-align: right;\n",
       "    }\n",
       "</style>\n",
       "<table border=\"1\" class=\"dataframe\">\n",
       "  <thead>\n",
       "    <tr style=\"text-align: right;\">\n",
       "      <th></th>\n",
       "      <th>Id</th>\n",
       "      <th>OwnerUserId</th>\n",
       "      <th>CreationDate</th>\n",
       "      <th>ParentId</th>\n",
       "      <th>Score</th>\n",
       "      <th>Body</th>\n",
       "    </tr>\n",
       "  </thead>\n",
       "  <tbody>\n",
       "    <tr>\n",
       "      <th>0</th>\n",
       "      <td>92</td>\n",
       "      <td>61.0</td>\n",
       "      <td>2008-08-01 14:45:37+00:00</td>\n",
       "      <td>90</td>\n",
       "      <td>13</td>\n",
       "      <td>&lt;p&gt;&lt;a href=\"http://svnbook.red-bean.com/\"&gt;Vers...</td>\n",
       "    </tr>\n",
       "    <tr>\n",
       "      <th>1</th>\n",
       "      <td>124</td>\n",
       "      <td>26.0</td>\n",
       "      <td>2008-08-01 16:09:47+00:00</td>\n",
       "      <td>80</td>\n",
       "      <td>12</td>\n",
       "      <td>&lt;p&gt;I wound up using this. It is a kind of a ha...</td>\n",
       "    </tr>\n",
       "    <tr>\n",
       "      <th>2</th>\n",
       "      <td>199</td>\n",
       "      <td>50.0</td>\n",
       "      <td>2008-08-01 19:36:46+00:00</td>\n",
       "      <td>180</td>\n",
       "      <td>1</td>\n",
       "      <td>&lt;p&gt;I've read somewhere the human eye can't dis...</td>\n",
       "    </tr>\n",
       "    <tr>\n",
       "      <th>3</th>\n",
       "      <td>269</td>\n",
       "      <td>91.0</td>\n",
       "      <td>2008-08-01 23:49:57+00:00</td>\n",
       "      <td>260</td>\n",
       "      <td>4</td>\n",
       "      <td>&lt;p&gt;Yes, I thought about that, but I soon figur...</td>\n",
       "    </tr>\n",
       "    <tr>\n",
       "      <th>4</th>\n",
       "      <td>307</td>\n",
       "      <td>49.0</td>\n",
       "      <td>2008-08-02 01:49:46+00:00</td>\n",
       "      <td>260</td>\n",
       "      <td>28</td>\n",
       "      <td>&lt;p&gt;&lt;a href=\"http://www.codeproject.com/Article...</td>\n",
       "    </tr>\n",
       "  </tbody>\n",
       "</table>\n",
       "</div>"
      ]
     },
     "execution_count": 4,
     "metadata": {},
     "output_type": "execute_result"
    }
   ],
   "execution_count": 4
  },
  {
   "metadata": {
    "ExecuteTime": {
     "end_time": "2025-04-30T12:24:04.325996Z",
     "start_time": "2025-04-30T12:24:04.322691Z"
    }
   },
   "cell_type": "code",
   "source": "tags.head()",
   "id": "4e857169260d1e46",
   "outputs": [
    {
     "data": {
      "text/plain": [
       "   Id             Tag\n",
       "0  80            flex\n",
       "1  80  actionscript-3\n",
       "2  80             air\n",
       "3  90             svn\n",
       "4  90     tortoisesvn"
      ],
      "text/html": [
       "<div>\n",
       "<style scoped>\n",
       "    .dataframe tbody tr th:only-of-type {\n",
       "        vertical-align: middle;\n",
       "    }\n",
       "\n",
       "    .dataframe tbody tr th {\n",
       "        vertical-align: top;\n",
       "    }\n",
       "\n",
       "    .dataframe thead th {\n",
       "        text-align: right;\n",
       "    }\n",
       "</style>\n",
       "<table border=\"1\" class=\"dataframe\">\n",
       "  <thead>\n",
       "    <tr style=\"text-align: right;\">\n",
       "      <th></th>\n",
       "      <th>Id</th>\n",
       "      <th>Tag</th>\n",
       "    </tr>\n",
       "  </thead>\n",
       "  <tbody>\n",
       "    <tr>\n",
       "      <th>0</th>\n",
       "      <td>80</td>\n",
       "      <td>flex</td>\n",
       "    </tr>\n",
       "    <tr>\n",
       "      <th>1</th>\n",
       "      <td>80</td>\n",
       "      <td>actionscript-3</td>\n",
       "    </tr>\n",
       "    <tr>\n",
       "      <th>2</th>\n",
       "      <td>80</td>\n",
       "      <td>air</td>\n",
       "    </tr>\n",
       "    <tr>\n",
       "      <th>3</th>\n",
       "      <td>90</td>\n",
       "      <td>svn</td>\n",
       "    </tr>\n",
       "    <tr>\n",
       "      <th>4</th>\n",
       "      <td>90</td>\n",
       "      <td>tortoisesvn</td>\n",
       "    </tr>\n",
       "  </tbody>\n",
       "</table>\n",
       "</div>"
      ]
     },
     "execution_count": 5,
     "metadata": {},
     "output_type": "execute_result"
    }
   ],
   "execution_count": 5
  },
  {
   "cell_type": "code",
   "id": "80dac32c",
   "metadata": {
    "ExecuteTime": {
     "end_time": "2025-04-30T12:24:14.081166Z",
     "start_time": "2025-04-30T12:24:04.403637Z"
    }
   },
   "source": [
    "# Соединяем вопросы с ответами\n",
    "answers_per_question = answers.groupby('ParentId').size().rename('AnswerCount') # answers.ParentId ссылается на Questions.Id\n",
    "questions = questions.merge(answers_per_question, left_on='Id', right_index=True, how='left')\n",
    "questions['AnswerCount'] = questions['AnswerCount'].fillna(0).astype(int)\n",
    "\n",
    "# Объединяем теги и получаем список тегов для каждого вопроса\n",
    "tags_agg = tags.groupby('Id')['Tag'].apply(list).rename('TagList')\n",
    "questions = questions.merge(tags_agg, left_on='Id', right_index=True, how='left')\n",
    "\n",
    "questions.head()"
   ],
   "outputs": [
    {
     "data": {
      "text/plain": [
       "    Id  OwnerUserId              CreationDate                ClosedDate  \\\n",
       "0   80         26.0 2008-08-01 13:57:07+00:00                       NaT   \n",
       "1   90         58.0 2008-08-01 14:41:24+00:00 2012-12-26 03:45:49+00:00   \n",
       "2  120         83.0 2008-08-01 15:50:08+00:00                       NaT   \n",
       "3  180    2089740.0 2008-08-01 18:42:19+00:00                       NaT   \n",
       "4  260         91.0 2008-08-01 23:22:08+00:00                       NaT   \n",
       "\n",
       "   Score                                              Title  \\\n",
       "0     26  SQLStatement.execute() - multiple queries in o...   \n",
       "1    144  Good branching and merging tutorials for Torto...   \n",
       "2     21                                  ASP.NET Site Maps   \n",
       "3     53                 Function for creating color wheels   \n",
       "4     49  Adding scripting functionality to .NET applica...   \n",
       "\n",
       "                                                Body  AnswerCount  \\\n",
       "0  <p>I've written a database generation script i...            3   \n",
       "1  <p>Are there any really good tutorials explain...            3   \n",
       "2  <p>Has anyone got experience creating <strong>...            1   \n",
       "3  <p>This is something I've pseudo-solved many t...            9   \n",
       "4  <p>I have a little game written in C#. It uses...            9   \n",
       "\n",
       "                                             TagList  \n",
       "0                        [flex, actionscript-3, air]  \n",
       "1  [svn, tortoisesvn, branch, branching-and-merging]  \n",
       "2                            [sql, asp.net, sitemap]  \n",
       "3  [algorithm, language-agnostic, colors, color-s...  \n",
       "4       [c#, .net, scripting, compiler-construction]  "
      ],
      "text/html": [
       "<div>\n",
       "<style scoped>\n",
       "    .dataframe tbody tr th:only-of-type {\n",
       "        vertical-align: middle;\n",
       "    }\n",
       "\n",
       "    .dataframe tbody tr th {\n",
       "        vertical-align: top;\n",
       "    }\n",
       "\n",
       "    .dataframe thead th {\n",
       "        text-align: right;\n",
       "    }\n",
       "</style>\n",
       "<table border=\"1\" class=\"dataframe\">\n",
       "  <thead>\n",
       "    <tr style=\"text-align: right;\">\n",
       "      <th></th>\n",
       "      <th>Id</th>\n",
       "      <th>OwnerUserId</th>\n",
       "      <th>CreationDate</th>\n",
       "      <th>ClosedDate</th>\n",
       "      <th>Score</th>\n",
       "      <th>Title</th>\n",
       "      <th>Body</th>\n",
       "      <th>AnswerCount</th>\n",
       "      <th>TagList</th>\n",
       "    </tr>\n",
       "  </thead>\n",
       "  <tbody>\n",
       "    <tr>\n",
       "      <th>0</th>\n",
       "      <td>80</td>\n",
       "      <td>26.0</td>\n",
       "      <td>2008-08-01 13:57:07+00:00</td>\n",
       "      <td>NaT</td>\n",
       "      <td>26</td>\n",
       "      <td>SQLStatement.execute() - multiple queries in o...</td>\n",
       "      <td>&lt;p&gt;I've written a database generation script i...</td>\n",
       "      <td>3</td>\n",
       "      <td>[flex, actionscript-3, air]</td>\n",
       "    </tr>\n",
       "    <tr>\n",
       "      <th>1</th>\n",
       "      <td>90</td>\n",
       "      <td>58.0</td>\n",
       "      <td>2008-08-01 14:41:24+00:00</td>\n",
       "      <td>2012-12-26 03:45:49+00:00</td>\n",
       "      <td>144</td>\n",
       "      <td>Good branching and merging tutorials for Torto...</td>\n",
       "      <td>&lt;p&gt;Are there any really good tutorials explain...</td>\n",
       "      <td>3</td>\n",
       "      <td>[svn, tortoisesvn, branch, branching-and-merging]</td>\n",
       "    </tr>\n",
       "    <tr>\n",
       "      <th>2</th>\n",
       "      <td>120</td>\n",
       "      <td>83.0</td>\n",
       "      <td>2008-08-01 15:50:08+00:00</td>\n",
       "      <td>NaT</td>\n",
       "      <td>21</td>\n",
       "      <td>ASP.NET Site Maps</td>\n",
       "      <td>&lt;p&gt;Has anyone got experience creating &lt;strong&gt;...</td>\n",
       "      <td>1</td>\n",
       "      <td>[sql, asp.net, sitemap]</td>\n",
       "    </tr>\n",
       "    <tr>\n",
       "      <th>3</th>\n",
       "      <td>180</td>\n",
       "      <td>2089740.0</td>\n",
       "      <td>2008-08-01 18:42:19+00:00</td>\n",
       "      <td>NaT</td>\n",
       "      <td>53</td>\n",
       "      <td>Function for creating color wheels</td>\n",
       "      <td>&lt;p&gt;This is something I've pseudo-solved many t...</td>\n",
       "      <td>9</td>\n",
       "      <td>[algorithm, language-agnostic, colors, color-s...</td>\n",
       "    </tr>\n",
       "    <tr>\n",
       "      <th>4</th>\n",
       "      <td>260</td>\n",
       "      <td>91.0</td>\n",
       "      <td>2008-08-01 23:22:08+00:00</td>\n",
       "      <td>NaT</td>\n",
       "      <td>49</td>\n",
       "      <td>Adding scripting functionality to .NET applica...</td>\n",
       "      <td>&lt;p&gt;I have a little game written in C#. It uses...</td>\n",
       "      <td>9</td>\n",
       "      <td>[c#, .net, scripting, compiler-construction]</td>\n",
       "    </tr>\n",
       "  </tbody>\n",
       "</table>\n",
       "</div>"
      ]
     },
     "execution_count": 6,
     "metadata": {},
     "output_type": "execute_result"
    }
   ],
   "execution_count": 6
  },
  {
   "metadata": {},
   "cell_type": "markdown",
   "source": "## 2. Очистка текста\n",
   "id": "ca367c36b69dc9f9"
  },
  {
   "cell_type": "code",
   "id": "9bcceb39",
   "metadata": {
    "ExecuteTime": {
     "end_time": "2025-04-30T12:24:44.038983Z",
     "start_time": "2025-04-30T12:24:44.031167Z"
    }
   },
   "source": [
    "STOPWORDS = set(stopwords.words('english'))\n",
    "lemmatizer = WordNetLemmatizer()\n",
    "\n",
    "# from bs4 import BeautifulSoup\n",
    "# def strip_html(raw_html: str) -> str:\n",
    "#     soup = BeautifulSoup(str(raw_html), 'html.parser')\n",
    "#     for code in soup.find_all('code'):\n",
    "#         code.decompose()\n",
    "#     text = soup.get_text(\" \")\n",
    "#     return text\n",
    "\n",
    "# Функция для определения части речи\n",
    "def get_wordnet_pos(word):\n",
    "    tag = nltk.pos_tag([word])[0][1][0].upper()\n",
    "    tag_dict = {\n",
    "        'J': wordnet.ADJ,\n",
    "        'N': wordnet.NOUN,\n",
    "        'V': wordnet.VERB,\n",
    "        'R': wordnet.ADV\n",
    "    }\n",
    "    return tag_dict.get(tag, wordnet.NOUN)\n",
    "\n",
    "def normalize(text: str) -> str:\n",
    "    # Убираем теги\n",
    "    text = re.sub(r'<code.*?>.*?</code>', '', text, flags=re.DOTALL | re.IGNORECASE)\n",
    "    text = re.sub(r'<[^>]+>', ' ', text)\n",
    "    # В нижний шрифт\n",
    "    text = text.lower()\n",
    "    # Убираем markdown и ссылки\n",
    "    text = re.sub(r'http\\S+|www\\S+', ' ', text)\n",
    "    # Оставляем только буквы/цифры\n",
    "    text = re.sub(r'[^a-z0-9\\s]', ' ', text)\n",
    "    # Преобразуем в начальную форму\n",
    "    tokens = [lemmatizer.lemmatize(tok, get_wordnet_pos(tok)) for tok in text.split() if tok not in STOPWORDS and len(tok) > 2]\n",
    "    return ' '.join(tokens)\n",
    "\n",
    "# Демонстрация работы\n",
    "sample_clean = normalize(questions.iloc[0]['Body'])\n",
    "print(sample_clean[:300])"
   ],
   "outputs": [
    {
     "name": "stdout",
     "output_type": "stream",
     "text": [
      "write database generation script sql want execute adobe air application execute adobe air use follow method error generate however exists seem look first query semicolon remove query fails way call multiple query one statement\n"
     ]
    }
   ],
   "execution_count": 9
  },
  {
   "cell_type": "code",
   "id": "a1082e9c",
   "metadata": {
    "ExecuteTime": {
     "end_time": "2025-04-30T12:58:47.110804Z",
     "start_time": "2025-04-30T12:24:50.411555Z"
    }
   },
   "source": [
    "# Применяем очистку ко всему датасету\n",
    "questions['CleanBody'] = questions['Body'].apply(normalize)\n",
    "questions['CleanTitle'] = questions['Title'].apply(lambda t: normalize(str(t)))\n",
    "questions.head()"
   ],
   "outputs": [
    {
     "data": {
      "text/plain": [
       "    Id  OwnerUserId              CreationDate                ClosedDate  \\\n",
       "0   80         26.0 2008-08-01 13:57:07+00:00                       NaT   \n",
       "1   90         58.0 2008-08-01 14:41:24+00:00 2012-12-26 03:45:49+00:00   \n",
       "2  120         83.0 2008-08-01 15:50:08+00:00                       NaT   \n",
       "3  180    2089740.0 2008-08-01 18:42:19+00:00                       NaT   \n",
       "4  260         91.0 2008-08-01 23:22:08+00:00                       NaT   \n",
       "\n",
       "   Score                                              Title  \\\n",
       "0     26  SQLStatement.execute() - multiple queries in o...   \n",
       "1    144  Good branching and merging tutorials for Torto...   \n",
       "2     21                                  ASP.NET Site Maps   \n",
       "3     53                 Function for creating color wheels   \n",
       "4     49  Adding scripting functionality to .NET applica...   \n",
       "\n",
       "                                                Body  AnswerCount  \\\n",
       "0  <p>I've written a database generation script i...            3   \n",
       "1  <p>Are there any really good tutorials explain...            3   \n",
       "2  <p>Has anyone got experience creating <strong>...            1   \n",
       "3  <p>This is something I've pseudo-solved many t...            9   \n",
       "4  <p>I have a little game written in C#. It uses...            9   \n",
       "\n",
       "                                             TagList  \\\n",
       "0                        [flex, actionscript-3, air]   \n",
       "1  [svn, tortoisesvn, branch, branching-and-merging]   \n",
       "2                            [sql, asp.net, sitemap]   \n",
       "3  [algorithm, language-agnostic, colors, color-s...   \n",
       "4       [c#, .net, scripting, compiler-construction]   \n",
       "\n",
       "                                           CleanBody  \\\n",
       "0  write database generation script sql want exec...   \n",
       "1  really good tutorial explain branching merge a...   \n",
       "2  anyone get experience create sql base asp net ...   \n",
       "3  something pseudo solve many time never quite f...   \n",
       "4  little game write us database back end trading...   \n",
       "\n",
       "                                          CleanTitle  \n",
       "0  sqlstatement execute multiple query one statement  \n",
       "1          good branching merge tutorial tortoisesvn  \n",
       "2                                   asp net site map  \n",
       "3                        function create color wheel  \n",
       "4           add script functionality net application  "
      ],
      "text/html": [
       "<div>\n",
       "<style scoped>\n",
       "    .dataframe tbody tr th:only-of-type {\n",
       "        vertical-align: middle;\n",
       "    }\n",
       "\n",
       "    .dataframe tbody tr th {\n",
       "        vertical-align: top;\n",
       "    }\n",
       "\n",
       "    .dataframe thead th {\n",
       "        text-align: right;\n",
       "    }\n",
       "</style>\n",
       "<table border=\"1\" class=\"dataframe\">\n",
       "  <thead>\n",
       "    <tr style=\"text-align: right;\">\n",
       "      <th></th>\n",
       "      <th>Id</th>\n",
       "      <th>OwnerUserId</th>\n",
       "      <th>CreationDate</th>\n",
       "      <th>ClosedDate</th>\n",
       "      <th>Score</th>\n",
       "      <th>Title</th>\n",
       "      <th>Body</th>\n",
       "      <th>AnswerCount</th>\n",
       "      <th>TagList</th>\n",
       "      <th>CleanBody</th>\n",
       "      <th>CleanTitle</th>\n",
       "    </tr>\n",
       "  </thead>\n",
       "  <tbody>\n",
       "    <tr>\n",
       "      <th>0</th>\n",
       "      <td>80</td>\n",
       "      <td>26.0</td>\n",
       "      <td>2008-08-01 13:57:07+00:00</td>\n",
       "      <td>NaT</td>\n",
       "      <td>26</td>\n",
       "      <td>SQLStatement.execute() - multiple queries in o...</td>\n",
       "      <td>&lt;p&gt;I've written a database generation script i...</td>\n",
       "      <td>3</td>\n",
       "      <td>[flex, actionscript-3, air]</td>\n",
       "      <td>write database generation script sql want exec...</td>\n",
       "      <td>sqlstatement execute multiple query one statement</td>\n",
       "    </tr>\n",
       "    <tr>\n",
       "      <th>1</th>\n",
       "      <td>90</td>\n",
       "      <td>58.0</td>\n",
       "      <td>2008-08-01 14:41:24+00:00</td>\n",
       "      <td>2012-12-26 03:45:49+00:00</td>\n",
       "      <td>144</td>\n",
       "      <td>Good branching and merging tutorials for Torto...</td>\n",
       "      <td>&lt;p&gt;Are there any really good tutorials explain...</td>\n",
       "      <td>3</td>\n",
       "      <td>[svn, tortoisesvn, branch, branching-and-merging]</td>\n",
       "      <td>really good tutorial explain branching merge a...</td>\n",
       "      <td>good branching merge tutorial tortoisesvn</td>\n",
       "    </tr>\n",
       "    <tr>\n",
       "      <th>2</th>\n",
       "      <td>120</td>\n",
       "      <td>83.0</td>\n",
       "      <td>2008-08-01 15:50:08+00:00</td>\n",
       "      <td>NaT</td>\n",
       "      <td>21</td>\n",
       "      <td>ASP.NET Site Maps</td>\n",
       "      <td>&lt;p&gt;Has anyone got experience creating &lt;strong&gt;...</td>\n",
       "      <td>1</td>\n",
       "      <td>[sql, asp.net, sitemap]</td>\n",
       "      <td>anyone get experience create sql base asp net ...</td>\n",
       "      <td>asp net site map</td>\n",
       "    </tr>\n",
       "    <tr>\n",
       "      <th>3</th>\n",
       "      <td>180</td>\n",
       "      <td>2089740.0</td>\n",
       "      <td>2008-08-01 18:42:19+00:00</td>\n",
       "      <td>NaT</td>\n",
       "      <td>53</td>\n",
       "      <td>Function for creating color wheels</td>\n",
       "      <td>&lt;p&gt;This is something I've pseudo-solved many t...</td>\n",
       "      <td>9</td>\n",
       "      <td>[algorithm, language-agnostic, colors, color-s...</td>\n",
       "      <td>something pseudo solve many time never quite f...</td>\n",
       "      <td>function create color wheel</td>\n",
       "    </tr>\n",
       "    <tr>\n",
       "      <th>4</th>\n",
       "      <td>260</td>\n",
       "      <td>91.0</td>\n",
       "      <td>2008-08-01 23:22:08+00:00</td>\n",
       "      <td>NaT</td>\n",
       "      <td>49</td>\n",
       "      <td>Adding scripting functionality to .NET applica...</td>\n",
       "      <td>&lt;p&gt;I have a little game written in C#. It uses...</td>\n",
       "      <td>9</td>\n",
       "      <td>[c#, .net, scripting, compiler-construction]</td>\n",
       "      <td>little game write us database back end trading...</td>\n",
       "      <td>add script functionality net application</td>\n",
       "    </tr>\n",
       "  </tbody>\n",
       "</table>\n",
       "</div>"
      ]
     },
     "execution_count": 10,
     "metadata": {},
     "output_type": "execute_result"
    }
   ],
   "execution_count": 10
  },
  {
   "metadata": {
    "ExecuteTime": {
     "end_time": "2025-04-30T12:59:14.228596Z",
     "start_time": "2025-04-30T12:58:47.145205Z"
    }
   },
   "cell_type": "code",
   "source": "questions.to_csv(DATA_DIR + '/Questions_cleared.csv', index=False)",
   "id": "3c3eff4775819d65",
   "outputs": [],
   "execution_count": 11
  },
  {
   "metadata": {
    "ExecuteTime": {
     "end_time": "2025-04-30T13:28:11.909615Z",
     "start_time": "2025-04-30T12:59:14.248698Z"
    }
   },
   "cell_type": "code",
   "source": [
    "answers['CleanBody'] = answers['Body'].apply(normalize)\n",
    "answers.head()"
   ],
   "id": "3af465cead00f801",
   "outputs": [
    {
     "data": {
      "text/plain": [
       "    Id  OwnerUserId              CreationDate  ParentId  Score  \\\n",
       "0   92         61.0 2008-08-01 14:45:37+00:00        90     13   \n",
       "1  124         26.0 2008-08-01 16:09:47+00:00        80     12   \n",
       "2  199         50.0 2008-08-01 19:36:46+00:00       180      1   \n",
       "3  269         91.0 2008-08-01 23:49:57+00:00       260      4   \n",
       "4  307         49.0 2008-08-02 01:49:46+00:00       260     28   \n",
       "\n",
       "                                                Body  \\\n",
       "0  <p><a href=\"http://svnbook.red-bean.com/\">Vers...   \n",
       "1  <p>I wound up using this. It is a kind of a ha...   \n",
       "2  <p>I've read somewhere the human eye can't dis...   \n",
       "3  <p>Yes, I thought about that, but I soon figur...   \n",
       "4  <p><a href=\"http://www.codeproject.com/Article...   \n",
       "\n",
       "                                           CleanBody  \n",
       "0  version control subversion good resource sourc...  \n",
       "1  wound use kind hack actually work pretty well ...  \n",
       "2  read somewhere human eye distinguish less valu...  \n",
       "3  yes thought soon figure another domain specifi...  \n",
       "4  oleg shilo script solution code project really...  "
      ],
      "text/html": [
       "<div>\n",
       "<style scoped>\n",
       "    .dataframe tbody tr th:only-of-type {\n",
       "        vertical-align: middle;\n",
       "    }\n",
       "\n",
       "    .dataframe tbody tr th {\n",
       "        vertical-align: top;\n",
       "    }\n",
       "\n",
       "    .dataframe thead th {\n",
       "        text-align: right;\n",
       "    }\n",
       "</style>\n",
       "<table border=\"1\" class=\"dataframe\">\n",
       "  <thead>\n",
       "    <tr style=\"text-align: right;\">\n",
       "      <th></th>\n",
       "      <th>Id</th>\n",
       "      <th>OwnerUserId</th>\n",
       "      <th>CreationDate</th>\n",
       "      <th>ParentId</th>\n",
       "      <th>Score</th>\n",
       "      <th>Body</th>\n",
       "      <th>CleanBody</th>\n",
       "    </tr>\n",
       "  </thead>\n",
       "  <tbody>\n",
       "    <tr>\n",
       "      <th>0</th>\n",
       "      <td>92</td>\n",
       "      <td>61.0</td>\n",
       "      <td>2008-08-01 14:45:37+00:00</td>\n",
       "      <td>90</td>\n",
       "      <td>13</td>\n",
       "      <td>&lt;p&gt;&lt;a href=\"http://svnbook.red-bean.com/\"&gt;Vers...</td>\n",
       "      <td>version control subversion good resource sourc...</td>\n",
       "    </tr>\n",
       "    <tr>\n",
       "      <th>1</th>\n",
       "      <td>124</td>\n",
       "      <td>26.0</td>\n",
       "      <td>2008-08-01 16:09:47+00:00</td>\n",
       "      <td>80</td>\n",
       "      <td>12</td>\n",
       "      <td>&lt;p&gt;I wound up using this. It is a kind of a ha...</td>\n",
       "      <td>wound use kind hack actually work pretty well ...</td>\n",
       "    </tr>\n",
       "    <tr>\n",
       "      <th>2</th>\n",
       "      <td>199</td>\n",
       "      <td>50.0</td>\n",
       "      <td>2008-08-01 19:36:46+00:00</td>\n",
       "      <td>180</td>\n",
       "      <td>1</td>\n",
       "      <td>&lt;p&gt;I've read somewhere the human eye can't dis...</td>\n",
       "      <td>read somewhere human eye distinguish less valu...</td>\n",
       "    </tr>\n",
       "    <tr>\n",
       "      <th>3</th>\n",
       "      <td>269</td>\n",
       "      <td>91.0</td>\n",
       "      <td>2008-08-01 23:49:57+00:00</td>\n",
       "      <td>260</td>\n",
       "      <td>4</td>\n",
       "      <td>&lt;p&gt;Yes, I thought about that, but I soon figur...</td>\n",
       "      <td>yes thought soon figure another domain specifi...</td>\n",
       "    </tr>\n",
       "    <tr>\n",
       "      <th>4</th>\n",
       "      <td>307</td>\n",
       "      <td>49.0</td>\n",
       "      <td>2008-08-02 01:49:46+00:00</td>\n",
       "      <td>260</td>\n",
       "      <td>28</td>\n",
       "      <td>&lt;p&gt;&lt;a href=\"http://www.codeproject.com/Article...</td>\n",
       "      <td>oleg shilo script solution code project really...</td>\n",
       "    </tr>\n",
       "  </tbody>\n",
       "</table>\n",
       "</div>"
      ]
     },
     "execution_count": 12,
     "metadata": {},
     "output_type": "execute_result"
    }
   ],
   "execution_count": 12
  },
  {
   "metadata": {
    "ExecuteTime": {
     "end_time": "2025-04-30T13:28:36.502965Z",
     "start_time": "2025-04-30T13:28:11.945249Z"
    }
   },
   "cell_type": "code",
   "source": "answers.to_csv(DATA_DIR + '/Answers_cleared.csv', index=False)",
   "id": "12206d97aa9648af",
   "outputs": [],
   "execution_count": 13
  },
  {
   "cell_type": "markdown",
   "id": "9f716e74",
   "metadata": {},
   "source": "##  3. Агрегация и регуляризация"
  },
  {
   "cell_type": "code",
   "id": "cd8eeeb7",
   "metadata": {
    "ExecuteTime": {
     "end_time": "2025-04-24T22:20:47.713882Z",
     "start_time": "2025-04-24T22:20:47.669173Z"
    }
   },
   "source": [
    "# Количество вопросов и ответов\n",
    "N = len(questions)\n",
    "mean_ans = questions['AnswerCount'].mean()\n",
    "median_ans = questions['AnswerCount'].median()\n",
    "max_ans = questions['AnswerCount'].max()\n",
    "\n",
    "print(f'Total questions: {N:,}')\n",
    "print(f'Average answers per question: {mean_ans:.2f}')\n",
    "print(f'Median answers per question : {median_ans}')\n",
    "print(f'Max answers per question    : {max_ans}')"
   ],
   "outputs": [
    {
     "name": "stdout",
     "output_type": "stream",
     "text": [
      "Total questions: 1,264,216\n",
      "Average answers per question: 1.59\n",
      "Median answers per question : 1.0\n",
      "Max answers per question    : 408\n"
     ]
    }
   ],
   "execution_count": 41
  },
  {
   "cell_type": "code",
   "id": "629e72ce",
   "metadata": {
    "ExecuteTime": {
     "end_time": "2025-04-24T22:20:48.062206Z",
     "start_time": "2025-04-24T22:20:47.778699Z"
    }
   },
   "source": [
    "# Топ 10 популярных тегов (включая языки программирования)\n",
    "tag_counts = tags['Tag'].value_counts().head(10)\n",
    "tag_counts"
   ],
   "outputs": [
    {
     "data": {
      "text/plain": [
       "Tag\n",
       "javascript    124155\n",
       "java          115212\n",
       "c#            101186\n",
       "php            98808\n",
       "android        90659\n",
       "jquery         78542\n",
       "python         64601\n",
       "html           58976\n",
       "c++            47591\n",
       "ios            47009\n",
       "Name: count, dtype: int64"
      ]
     },
     "execution_count": 42,
     "metadata": {},
     "output_type": "execute_result"
    }
   ],
   "execution_count": 42
  },
  {
   "metadata": {
    "ExecuteTime": {
     "end_time": "2025-04-24T22:20:48.254161Z",
     "start_time": "2025-04-24T22:20:48.087068Z"
    }
   },
   "cell_type": "code",
   "source": [
    "sns.barplot(x=tag_counts.values, y=tag_counts.index)\n",
    "plt.title('Top 10 tags')\n",
    "plt.xlabel('Number of questions')\n",
    "plt.ylabel('Tag');"
   ],
   "id": "3018c1db16b6fcca",
   "outputs": [
    {
     "data": {
      "text/plain": [
       "<Figure size 1000x500 with 1 Axes>"
      ],
      "image/png": "[encoded data removed]"
     },
     "metadata": {},
     "output_type": "display_data"
    }
   ],
   "execution_count": 43
  },
  {
   "metadata": {},
   "cell_type": "markdown",
   "source": "## 4. Первичный анализ и визуализация",
   "id": "238f87507179ea7f"
  },
  {
   "cell_type": "code",
   "id": "ae0c0ee6",
   "metadata": {
    "ExecuteTime": {
     "end_time": "2025-04-24T22:20:49.268077Z",
     "start_time": "2025-04-24T22:20:48.272604Z"
    }
   },
   "source": [
    "# Длина вопросов (очищенных)\n",
    "questions['QLength'] = questions['CleanBody'].str.len()\n",
    "sns.histplot(questions['QLength'], bins=100, log_scale=True)\n",
    "plt.xlabel('Length of questions')\n",
    "plt.title('Length distribution (log)');"
   ],
   "outputs": [
    {
     "data": {
      "text/plain": [
       "<Figure size 1000x500 with 1 Axes>"
      ],
      "image/png": "[encoded data removed]"
     },
     "metadata": {},
     "output_type": "display_data"
    }
   ],
   "execution_count": 44
  },
  {
   "metadata": {
    "ExecuteTime": {
     "end_time": "2025-04-24T22:20:50.364596Z",
     "start_time": "2025-04-24T22:20:49.276530Z"
    }
   },
   "cell_type": "code",
   "source": [
    "# Длина ответов (очищенных)\n",
    "answers['ALength'] = answers['CleanBody'].str.len()\n",
    "sns.histplot(answers['ALength'], bins=100, log_scale=True)\n",
    "plt.xlabel('Length of answers')\n",
    "plt.title('Length distribution (log)');"
   ],
   "id": "dacd8d1d70820139",
   "outputs": [
    {
     "data": {
      "text/plain": [
       "<Figure size 1000x500 with 1 Axes>"
      ],
      "image/png": "[encoded data removed]"
     },
     "metadata": {},
     "output_type": "display_data"
    }
   ],
   "execution_count": 45
  },
  {
   "cell_type": "code",
   "id": "072a042e",
   "metadata": {
    "ExecuteTime": {
     "end_time": "2025-04-24T22:20:52.088378Z",
     "start_time": "2025-04-24T22:20:50.377611Z"
    }
   },
   "source": [
    "# Проверка пропусков\n",
    "missing = questions.isna().mean().sort_values(ascending=False)\n",
    "missing.head(10)"
   ],
   "outputs": [
    {
     "data": {
      "text/plain": [
       "ClosedDate      0.955736\n",
       "OwnerUserId     0.011433\n",
       "Id              0.000000\n",
       "CreationDate    0.000000\n",
       "Score           0.000000\n",
       "Title           0.000000\n",
       "Body            0.000000\n",
       "AnswerCount     0.000000\n",
       "TagList         0.000000\n",
       "CleanBody       0.000000\n",
       "dtype: float64"
      ]
     },
     "execution_count": 46,
     "metadata": {},
     "output_type": "execute_result"
    }
   ],
   "execution_count": 46
  },
  {
   "cell_type": "markdown",
   "id": "6d160605",
   "metadata": {},
   "source": [
    "## 5. Выводы\n",
    "* **Объем:** $N \\approx$ 1.26 млн вопросов и 2.6 млн ответов, а также около 37000 уникальных тегов.\n",
    "* **Среднее число ответов** на вопрос ≈ 1.5, однако медиана = 1, значит распределение правостороннее\n",
    "* **Популярные теги:** `javascript`, `java`, `c#`, `php`, `android`, …\n",
    "* **Размер текста:** большинство вопросов укладывается в 500–1500 символов\n",
    "* **Пропуски** их немного — в основном `ClosedDate`, но это норма\n"
   ]
  }
 ],
 "metadata": {
  "kernelspec": {
   "name": "python3",
   "language": "python",
   "display_name": "Python 3 (ipykernel)"
  }
 },
 "nbformat": 4,
 "nbformat_minor": 5
}
